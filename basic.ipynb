{
 "cells": [
  {
   "cell_type": "markdown",
   "id": "a50fd1a3",
   "metadata": {},
   "source": [
    "\n",
    "#\n",
    "#my first work"
   ]
  },
  {
   "cell_type": "code",
   "execution_count": 1,
   "id": "5568ff97",
   "metadata": {},
   "outputs": [
    {
     "name": "stdout",
     "output_type": "stream",
     "text": [
      "my name is resmi\n"
     ]
    }
   ],
   "source": [
    "print(\"my name is resmi\")"
   ]
  },
  {
   "cell_type": "code",
   "execution_count": 2,
   "id": "ce4b6aa7",
   "metadata": {
    "scrolled": true
   },
   "outputs": [
    {
     "name": "stdout",
     "output_type": "stream",
     "text": [
      "Hello, world!\n"
     ]
    }
   ],
   "source": [
    "print(\"Hello, world!\")"
   ]
  },
  {
   "cell_type": "code",
   "execution_count": 4,
   "id": "c3a3cf35",
   "metadata": {},
   "outputs": [
    {
     "name": "stdout",
     "output_type": "stream",
     "text": [
      "2222\n"
     ]
    }
   ],
   "source": [
    "y=2222\n",
    "\n",
    "print(y)"
   ]
  },
  {
   "cell_type": "code",
   "execution_count": 5,
   "id": "c677a643",
   "metadata": {},
   "outputs": [
    {
     "name": "stdout",
     "output_type": "stream",
     "text": [
      "hello revathy\n"
     ]
    }
   ],
   "source": [
    "\n",
    "print(\"hello revathy\")"
   ]
  },
  {
   "cell_type": "markdown",
   "id": "4135eda9",
   "metadata": {},
   "source": [
    "variable names"
   ]
  },
  {
   "cell_type": "code",
   "execution_count": 6,
   "id": "930adb83",
   "metadata": {},
   "outputs": [
    {
     "name": "stdout",
     "output_type": "stream",
     "text": [
      "2\n"
     ]
    }
   ],
   "source": [
    "myvariable=2\n",
    "print(myvariable)\n",
    "\n",
    "#MyVariable7=1\n",
    "#MyVariable7\n",
    "#MyVariable7\n",
    "#myvariable\n",
    "#my_variable\n",
    "#MYVARIABLE\n",
    "#myvariable\n"
   ]
  },
  {
   "cell_type": "code",
   "execution_count": 7,
   "id": "885e154f",
   "metadata": {},
   "outputs": [
    {
     "ename": "SyntaxError",
     "evalue": "invalid syntax (1225951047.py, line 1)",
     "output_type": "error",
     "traceback": [
      "\u001b[1;36m  File \u001b[1;32m\"C:\\Users\\user\\AppData\\Local\\Temp\\ipykernel_3092\\1225951047.py\"\u001b[1;36m, line \u001b[1;32m1\u001b[0m\n\u001b[1;33m    2myvariable\u001b[0m\n\u001b[1;37m     ^\u001b[0m\n\u001b[1;31mSyntaxError\u001b[0m\u001b[1;31m:\u001b[0m invalid syntax\n"
     ]
    }
   ],
   "source": [
    "2myvariable"
   ]
  },
  {
   "cell_type": "code",
   "execution_count": 8,
   "id": "15f94976",
   "metadata": {},
   "outputs": [
    {
     "ename": "SyntaxError",
     "evalue": "invalid syntax (3546167299.py, line 1)",
     "output_type": "error",
     "traceback": [
      "\u001b[1;36m  File \u001b[1;32m\"C:\\Users\\user\\AppData\\Local\\Temp\\ipykernel_3092\\3546167299.py\"\u001b[1;36m, line \u001b[1;32m1\u001b[0m\n\u001b[1;33m    My variable=1\u001b[0m\n\u001b[1;37m       ^\u001b[0m\n\u001b[1;31mSyntaxError\u001b[0m\u001b[1;31m:\u001b[0m invalid syntax\n"
     ]
    }
   ],
   "source": [
    "My variable=1\n",
    "My variable"
   ]
  },
  {
   "cell_type": "code",
   "execution_count": 9,
   "id": "efd9ae13",
   "metadata": {},
   "outputs": [
    {
     "ename": "NameError",
     "evalue": "name 'my' is not defined",
     "output_type": "error",
     "traceback": [
      "\u001b[1;31m---------------------------------------------------------------------------\u001b[0m",
      "\u001b[1;31mNameError\u001b[0m                                 Traceback (most recent call last)",
      "\u001b[1;32m~\\AppData\\Local\\Temp\\ipykernel_3092\\1409123781.py\u001b[0m in \u001b[0;36m<module>\u001b[1;34m\u001b[0m\n\u001b[1;32m----> 1\u001b[1;33m \u001b[0mmy\u001b[0m\u001b[1;33m+\u001b[0m\u001b[0mvariable\u001b[0m\u001b[1;33m\u001b[0m\u001b[1;33m\u001b[0m\u001b[0m\n\u001b[0m",
      "\u001b[1;31mNameError\u001b[0m: name 'my' is not defined"
     ]
    }
   ],
   "source": [
    "my+variable"
   ]
  },
  {
   "cell_type": "code",
   "execution_count": 10,
   "id": "12f95373",
   "metadata": {},
   "outputs": [
    {
     "data": {
      "text/plain": [
       "3.0"
      ]
     },
     "execution_count": 10,
     "metadata": {},
     "output_type": "execute_result"
    }
   ],
   "source": [
    "a=3.0\n",
    "a\n",
    "#print(a)"
   ]
  },
  {
   "cell_type": "code",
   "execution_count": 11,
   "id": "9ee16899",
   "metadata": {},
   "outputs": [
    {
     "name": "stdout",
     "output_type": "stream",
     "text": [
      "hello world\n",
      "12\n",
      "True\n"
     ]
    }
   ],
   "source": [
    "a=\"hello world\"\n",
    "print(a)\n",
    "c=12\n",
    "print(c)\n",
    "b=True\n",
    "print(b)"
   ]
  },
  {
   "cell_type": "code",
   "execution_count": 12,
   "id": "9deb5b99",
   "metadata": {
    "scrolled": true
   },
   "outputs": [
    {
     "name": "stdout",
     "output_type": "stream",
     "text": [
      "enter the name\takash\n",
      "akash\n"
     ]
    }
   ],
   "source": [
    "#to give input through userlevel\n",
    "name=input(\"enter the name\\t\")\n",
    "print(name)"
   ]
  },
  {
   "cell_type": "code",
   "execution_count": 14,
   "id": "c7824dd7",
   "metadata": {},
   "outputs": [
    {
     "name": "stdout",
     "output_type": "stream",
     "text": [
      "enter the name\takash\n",
      "enter the place\n",
      "tcr\n",
      "akash \n",
      " tcr\n"
     ]
    }
   ],
   "source": [
    "name=input(\"enter the name\\t\")\n",
    "place=input(\"enter the place\\n\")\n",
    "print(name,\"\\n\",place)"
   ]
  },
  {
   "cell_type": "code",
   "execution_count": 15,
   "id": "44a908a5",
   "metadata": {},
   "outputs": [
    {
     "name": "stdout",
     "output_type": "stream",
     "text": [
      "enter the mark1\n",
      "23\n",
      "enter the mark2\n",
      "45\n",
      "68.0\n"
     ]
    }
   ],
   "source": [
    "marks1=float(input(\"enter the mark1\\n\"))\n",
    "marks2=int(input(\"enter the mark2\\n\"))\n",
    "print(marks1+marks2)"
   ]
  },
  {
   "cell_type": "markdown",
   "id": "1ef54370",
   "metadata": {},
   "source": [
    "to check the datatype"
   ]
  },
  {
   "cell_type": "code",
   "execution_count": 16,
   "id": "9c02cd0c",
   "metadata": {
    "scrolled": true
   },
   "outputs": [
    {
     "name": "stdout",
     "output_type": "stream",
     "text": [
      "6\n",
      "<class 'int'>\n"
     ]
    }
   ],
   "source": [
    "a=6\n",
    "print(a)\n",
    "print(type(a))"
   ]
  },
  {
   "cell_type": "code",
   "execution_count": 17,
   "id": "5e84a712",
   "metadata": {},
   "outputs": [
    {
     "name": "stdout",
     "output_type": "stream",
     "text": [
      "<class 'bool'>\n"
     ]
    }
   ],
   "source": [
    "w=True\n",
    "print(type(w))"
   ]
  },
  {
   "cell_type": "code",
   "execution_count": null,
   "id": "5ec751bd",
   "metadata": {
    "scrolled": true
   },
   "outputs": [],
   "source": []
  },
  {
   "cell_type": "code",
   "execution_count": 18,
   "id": "ad1b7d28",
   "metadata": {},
   "outputs": [
    {
     "name": "stdout",
     "output_type": "stream",
     "text": [
      "<class 'float'>\n"
     ]
    }
   ],
   "source": [
    "ab=6.5\n",
    "print(type(ab))"
   ]
  },
  {
   "cell_type": "code",
   "execution_count": 19,
   "id": "fe3dbdbf",
   "metadata": {},
   "outputs": [
    {
     "name": "stdout",
     "output_type": "stream",
     "text": [
      "<class 'str'>\n"
     ]
    }
   ],
   "source": [
    "s=\"hello world\"\n",
    "print(type(s))"
   ]
  },
  {
   "cell_type": "code",
   "execution_count": 20,
   "id": "bd5a99eb",
   "metadata": {},
   "outputs": [
    {
     "name": "stdout",
     "output_type": "stream",
     "text": [
      "<class 'bool'>\n",
      "<class 'bool'>\n"
     ]
    }
   ],
   "source": [
    "#to check the type of data\n",
    "s2=True\n",
    "s3=False\n",
    "print(type(s2))\n",
    "print(type(s3))"
   ]
  },
  {
   "cell_type": "code",
   "execution_count": 21,
   "id": "98396c50",
   "metadata": {
    "scrolled": true
   },
   "outputs": [
    {
     "name": "stdout",
     "output_type": "stream",
     "text": [
      " 3 \n",
      " 3 \n",
      " 3.0\n",
      "<class 'str'>\n",
      "<class 'int'>\n",
      "<class 'float'>\n"
     ]
    }
   ],
   "source": [
    "x = str(3)   # x will be '3'\n",
    "y = int(3)    # y will be 3\n",
    "z = float(3)  # z will be 3.0\n",
    "print(\"\",x, \"\\n\", y, \"\\n\", z)\n",
    "print(type(x))\n",
    "print(type(y))\n",
    "print(type(z))"
   ]
  },
  {
   "cell_type": "code",
   "execution_count": null,
   "id": "84a19ba3",
   "metadata": {},
   "outputs": [],
   "source": []
  },
  {
   "cell_type": "code",
   "execution_count": 22,
   "id": "f98a98b9",
   "metadata": {},
   "outputs": [
    {
     "name": "stdout",
     "output_type": "stream",
     "text": [
      "Orange\n",
      "Banana\n",
      "Cherry\n"
     ]
    }
   ],
   "source": [
    "x, y, z = \"Orange\", \"Banana\", \"Cherry\"\n",
    "print(x)\n",
    "print(y)\n",
    "print(z)"
   ]
  },
  {
   "cell_type": "code",
   "execution_count": 1,
   "id": "167e437e",
   "metadata": {},
   "outputs": [
    {
     "name": "stdout",
     "output_type": "stream",
     "text": [
      "1\n",
      "2.0\n",
      "Cherry\n"
     ]
    }
   ],
   "source": [
    "x, y, z = 1, 2.0, \"Cherry\"\n",
    "print(x)\n",
    "print(y)\n",
    "print(z)"
   ]
  },
  {
   "cell_type": "code",
   "execution_count": 2,
   "id": "57b1a254",
   "metadata": {},
   "outputs": [
    {
     "name": "stdout",
     "output_type": "stream",
     "text": [
      "Orange\n",
      "Orange\n",
      "Orange\n"
     ]
    }
   ],
   "source": [
    "x = y = z = \"Orange\"\n",
    "print(x)\n",
    "print(y)\n",
    "print(z)\n"
   ]
  },
  {
   "cell_type": "code",
   "execution_count": 3,
   "id": "e1ec7fca",
   "metadata": {},
   "outputs": [
    {
     "name": "stdout",
     "output_type": "stream",
     "text": [
      "Python is awesome\n"
     ]
    }
   ],
   "source": [
    "x = \"Python is awesome\"\n",
    "print(x)"
   ]
  },
  {
   "cell_type": "code",
   "execution_count": 26,
   "id": "942c9822",
   "metadata": {},
   "outputs": [
    {
     "name": "stdout",
     "output_type": "stream",
     "text": [
      "Python is awesome\n"
     ]
    }
   ],
   "source": [
    "x = \"Python\"\n",
    "y = \"is\"\n",
    "z = \"awesome\"\n",
    "print(x,y,z)"
   ]
  },
  {
   "cell_type": "code",
   "execution_count": 5,
   "id": "733a218a",
   "metadata": {},
   "outputs": [
    {
     "name": "stdout",
     "output_type": "stream",
     "text": [
      "Python\tis awesome\n"
     ]
    }
   ],
   "source": [
    "x = \"Python \"\n",
    "y = \"is \"\n",
    "z = \"awesome\"\n",
    "print(x+y+z)"
   ]
  },
  {
   "cell_type": "code",
   "execution_count": 6,
   "id": "e31def8f",
   "metadata": {},
   "outputs": [
    {
     "name": "stdout",
     "output_type": "stream",
     "text": [
      "15.0\n",
      "<class 'float'>\n"
     ]
    }
   ],
   "source": [
    "x=5\n",
    "y=10.0\n",
    "print(x + y)\n",
    "print(type(x+y))"
   ]
  },
  {
   "cell_type": "code",
   "execution_count": 7,
   "id": "ff666b39",
   "metadata": {},
   "outputs": [
    {
     "ename": "TypeError",
     "evalue": "unsupported operand type(s) for +: 'int' and 'str'",
     "output_type": "error",
     "traceback": [
      "\u001b[1;31m---------------------------------------------------------------------------\u001b[0m",
      "\u001b[1;31mTypeError\u001b[0m                                 Traceback (most recent call last)",
      "\u001b[1;32m~\\AppData\\Local\\Temp\\ipykernel_29440\\1989821626.py\u001b[0m in \u001b[0;36m<module>\u001b[1;34m\u001b[0m\n\u001b[0;32m      1\u001b[0m \u001b[0mx\u001b[0m \u001b[1;33m=\u001b[0m \u001b[1;36m5\u001b[0m\u001b[1;33m\u001b[0m\u001b[1;33m\u001b[0m\u001b[0m\n\u001b[0;32m      2\u001b[0m \u001b[0my\u001b[0m \u001b[1;33m=\u001b[0m \u001b[1;34m\"John\"\u001b[0m\u001b[1;33m\u001b[0m\u001b[1;33m\u001b[0m\u001b[0m\n\u001b[1;32m----> 3\u001b[1;33m \u001b[0mprint\u001b[0m\u001b[1;33m(\u001b[0m\u001b[0mx\u001b[0m \u001b[1;33m+\u001b[0m \u001b[0my\u001b[0m\u001b[1;33m)\u001b[0m\u001b[1;33m\u001b[0m\u001b[1;33m\u001b[0m\u001b[0m\n\u001b[0m",
      "\u001b[1;31mTypeError\u001b[0m: unsupported operand type(s) for +: 'int' and 'str'"
     ]
    }
   ],
   "source": [
    "x = 5\n",
    "y = \"John\"\n",
    "print(x + y)"
   ]
  },
  {
   "cell_type": "code",
   "execution_count": 10,
   "id": "3e654f85",
   "metadata": {
    "scrolled": false
   },
   "outputs": [
    {
     "name": "stdout",
     "output_type": "stream",
     "text": [
      "enter the adjective\tbeautiful\n",
      "Python is beautiful\n"
     ]
    }
   ],
   "source": [
    "\n",
    "def myfunc():\n",
    "    x=input(\"enter the adjective\\t\")\n",
    "    #u=\"awesome\"\n",
    "    print(\"Python is \" + x)\n"
   ]
  },
  {
   "cell_type": "code",
   "execution_count": 15,
   "id": "a7cece06",
   "metadata": {},
   "outputs": [
    {
     "name": "stdout",
     "output_type": "stream",
     "text": [
      "10\n"
     ]
    },
    {
     "ename": "NameError",
     "evalue": "name 'b' is not defined",
     "output_type": "error",
     "traceback": [
      "\u001b[1;31m---------------------------------------------------------------------------\u001b[0m",
      "\u001b[1;31mNameError\u001b[0m                                 Traceback (most recent call last)",
      "\u001b[1;32m~\\AppData\\Local\\Temp\\ipykernel_29440\\3224049121.py\u001b[0m in \u001b[0;36m<module>\u001b[1;34m\u001b[0m\n\u001b[0;32m      5\u001b[0m \u001b[0madd\u001b[0m\u001b[1;33m(\u001b[0m\u001b[1;33m)\u001b[0m\u001b[1;33m\u001b[0m\u001b[1;33m\u001b[0m\u001b[0m\n\u001b[0;32m      6\u001b[0m \u001b[1;33m\u001b[0m\u001b[0m\n\u001b[1;32m----> 7\u001b[1;33m \u001b[0mprint\u001b[0m\u001b[1;33m(\u001b[0m\u001b[0mb\u001b[0m\u001b[1;33m)\u001b[0m\u001b[1;33m\u001b[0m\u001b[1;33m\u001b[0m\u001b[0m\n\u001b[0m",
      "\u001b[1;31mNameError\u001b[0m: name 'b' is not defined"
     ]
    }
   ],
   "source": [
    "e=6\n",
    "def add():\n",
    "    b=4\n",
    "    print(e+b)\n",
    "add()\n",
    "\n",
    "print(b)"
   ]
  },
  {
   "cell_type": "code",
   "execution_count": 11,
   "id": "052a7c86",
   "metadata": {},
   "outputs": [
    {
     "name": "stdout",
     "output_type": "stream",
     "text": [
      "enter the adjective\tvow\n",
      "Python is vow\n"
     ]
    }
   ],
   "source": [
    "myfunc()"
   ]
  },
  {
   "cell_type": "code",
   "execution_count": null,
   "id": "cf2a7056",
   "metadata": {},
   "outputs": [],
   "source": [
    "myfunc()"
   ]
  },
  {
   "cell_type": "code",
   "execution_count": null,
   "id": "1e5207f3",
   "metadata": {},
   "outputs": [],
   "source": [
    "myfunc()"
   ]
  },
  {
   "cell_type": "code",
   "execution_count": null,
   "id": "0d431cbb",
   "metadata": {},
   "outputs": [],
   "source": [
    "x = \"awesome\"\n",
    "def myfunc():\n",
    "    print(\"python is \"+ x)\n",
    "    \n",
    "myfunc()\n",
    "    "
   ]
  },
  {
   "cell_type": "code",
   "execution_count": null,
   "id": "16500e60",
   "metadata": {},
   "outputs": [],
   "source": [
    "myfunc()"
   ]
  },
  {
   "cell_type": "code",
   "execution_count": 16,
   "id": "ac43ea4d",
   "metadata": {},
   "outputs": [
    {
     "name": "stdout",
     "output_type": "stream",
     "text": [
      "s1 2 3.0\n",
      "<class 'str'>\n"
     ]
    }
   ],
   "source": [
    "x = \"s1\"# x will be 's1'\n",
    "y = str(2)   # y will be '2'\n",
    "z = str(3.0)  # z will be '3.0'\n",
    "print(x,y,z)\n",
    "print(type(y))"
   ]
  },
  {
   "cell_type": "code",
   "execution_count": 17,
   "id": "d27fd13f",
   "metadata": {},
   "outputs": [
    {
     "name": "stdout",
     "output_type": "stream",
     "text": [
      "enter the num16\n",
      "enter the num27\n"
     ]
    },
    {
     "data": {
      "text/plain": [
       "13"
      ]
     },
     "execution_count": 17,
     "metadata": {},
     "output_type": "execute_result"
    }
   ],
   "source": [
    "def myfunc():\n",
    "    num1=int(input(\"enter the num1\"))\n",
    "    num2=int(input(\"enter the num2\"))\n",
    "    y=num1+num2\n",
    "    return(y)\n",
    "    \n",
    "myfunc()"
   ]
  },
  {
   "cell_type": "code",
   "execution_count": null,
   "id": "3d5a94aa",
   "metadata": {},
   "outputs": [],
   "source": [
    "def myfunc():\n",
    "    num1=int(input(\"enter the num1\"))\n",
    "    num2=int(input(\"enter the num2\"))\n",
    "    y=num1+num2\n",
    "    return(y)\n",
    "myfunc()"
   ]
  },
  {
   "cell_type": "code",
   "execution_count": 18,
   "id": "11ebdfbf",
   "metadata": {},
   "outputs": [
    {
     "name": "stdout",
     "output_type": "stream",
     "text": [
      "W\n"
     ]
    }
   ],
   "source": [
    "#Get the character at position 1 (remember that the first character has the position 0):\n",
    "a = \"Hello, World!\"\n",
    "print(a[7])"
   ]
  },
  {
   "cell_type": "code",
   "execution_count": 19,
   "id": "c97d252c",
   "metadata": {},
   "outputs": [
    {
     "name": "stdout",
     "output_type": "stream",
     "text": [
      "13\n"
     ]
    }
   ],
   "source": [
    "##### a = \"Hello, World!\"\n",
    "print(len(a))"
   ]
  },
  {
   "cell_type": "markdown",
   "id": "c1f041e6",
   "metadata": {},
   "source": [
    "Check String\n",
    "To check if a certain phrase or character is present in a string, we can use the keyword in.\n",
    "Check if \"free\" is present in the following text:\n"
   ]
  },
  {
   "cell_type": "code",
   "execution_count": 22,
   "id": "12b29c61",
   "metadata": {},
   "outputs": [
    {
     "name": "stdout",
     "output_type": "stream",
     "text": [
      "True\n"
     ]
    }
   ],
   "source": [
    "txt = \"The best things in life are free !\"\n",
    "print(\"free\" in txt)\n",
    "#print(len(txt))"
   ]
  },
  {
   "cell_type": "code",
   "execution_count": null,
   "id": "f5fa91e9",
   "metadata": {},
   "outputs": [],
   "source": [
    "text = \"the best things in life are\"\n",
    "print(\"free\" in text)\n"
   ]
  },
  {
   "cell_type": "code",
   "execution_count": 23,
   "id": "29d74cf4",
   "metadata": {},
   "outputs": [
    {
     "name": "stdout",
     "output_type": "stream",
     "text": [
      "Yes, 'free' is present.\n"
     ]
    }
   ],
   "source": [
    "#Print only if \"free\" is present:\n",
    "\n",
    "txt = \"The best things in life are free!\"\n",
    "if \"free\" in txt:\n",
    "    print(\"Yes, 'free' is present.\")\n",
    "else:\n",
    "    print(\"no, 'free' is not present.\")"
   ]
  },
  {
   "cell_type": "markdown",
   "id": "bcf69459",
   "metadata": {},
   "source": [
    "To check if a certain phrase or character is NOT present in a string, we can use the keyword not in."
   ]
  },
  {
   "cell_type": "code",
   "execution_count": 24,
   "id": "0836bc64",
   "metadata": {},
   "outputs": [
    {
     "name": "stdout",
     "output_type": "stream",
     "text": [
      "True\n"
     ]
    }
   ],
   "source": [
    "txt = \"The best things in life are free!\"\n",
    "print(\"expensive\" not in txt)\n"
   ]
  },
  {
   "cell_type": "markdown",
   "id": "0ae2d2c9",
   "metadata": {},
   "source": [
    "addition of float value"
   ]
  },
  {
   "cell_type": "markdown",
   "id": "4bb5abc0",
   "metadata": {},
   "source": [
    "arithmetic operation"
   ]
  },
  {
   "cell_type": "code",
   "execution_count": 25,
   "id": "5833879e",
   "metadata": {
    "scrolled": true
   },
   "outputs": [
    {
     "name": "stdout",
     "output_type": "stream",
     "text": [
      "enter the number\t8\n",
      "enter the number\t9\n",
      "8.0 9.0\n"
     ]
    }
   ],
   "source": [
    "num1=float(input(\"enter the number\\t\"))\n",
    "num2=float(input(\"enter the number\\t\"))\n",
    "print(num1,num2)"
   ]
  },
  {
   "cell_type": "code",
   "execution_count": null,
   "id": "9d18e97c",
   "metadata": {},
   "outputs": [],
   "source": [
    "n1=float(input(\"enter the number\\t\"))\n",
    "n2=float(input(\"enter the number\\t\"))\n",
    "print(n1,n2)"
   ]
  },
  {
   "cell_type": "markdown",
   "id": "696178fc",
   "metadata": {},
   "source": [
    "print(\"addition\",n1+n2)"
   ]
  },
  {
   "cell_type": "code",
   "execution_count": 26,
   "id": "5e560422",
   "metadata": {},
   "outputs": [
    {
     "name": "stdout",
     "output_type": "stream",
     "text": [
      "addition 17.0\n",
      "subtraction -1.0\n",
      "multiplication 72.0\n",
      "division 0.8888888888888888\n",
      "floor division 0.0\n",
      "remainder 8.0\n",
      "exponent 134217728.0\n"
     ]
    }
   ],
   "source": [
    "print(\"addition\", num1+num2)\n",
    "print(\"subtraction\", num1-num2)\n",
    "print(\"multiplication\", num1*num2)\n",
    "print(\"division\", num1/num2)\n",
    "print(\"floor division\", num1//num2)\n",
    "print(\"remainder\", num1%num2)\n",
    "print(\"exponent\", num1**num2)"
   ]
  },
  {
   "cell_type": "markdown",
   "id": "a0dae30b",
   "metadata": {},
   "source": [
    "relational operators"
   ]
  },
  {
   "cell_type": "markdown",
   "id": "349613b5",
   "metadata": {},
   "source": [
    "<,>,<=,>=,==,!="
   ]
  },
  {
   "cell_type": "code",
   "execution_count": 27,
   "id": "42caae5a",
   "metadata": {},
   "outputs": [
    {
     "name": "stdout",
     "output_type": "stream",
     "text": [
      "True\n"
     ]
    }
   ],
   "source": [
    "print(4<7)"
   ]
  },
  {
   "cell_type": "code",
   "execution_count": 28,
   "id": "3790a8bc",
   "metadata": {},
   "outputs": [
    {
     "name": "stdout",
     "output_type": "stream",
     "text": [
      "False\n"
     ]
    }
   ],
   "source": [
    "print(5<2)"
   ]
  },
  {
   "cell_type": "code",
   "execution_count": 29,
   "id": "92a10370",
   "metadata": {},
   "outputs": [
    {
     "name": "stdout",
     "output_type": "stream",
     "text": [
      "True\n"
     ]
    }
   ],
   "source": [
    "print(4<=7)"
   ]
  },
  {
   "cell_type": "code",
   "execution_count": 30,
   "id": "60b934cc",
   "metadata": {},
   "outputs": [
    {
     "name": "stdout",
     "output_type": "stream",
     "text": [
      "True\n"
     ]
    }
   ],
   "source": [
    "print(7<=7)"
   ]
  },
  {
   "cell_type": "code",
   "execution_count": 31,
   "id": "8d6940e6",
   "metadata": {},
   "outputs": [
    {
     "name": "stdout",
     "output_type": "stream",
     "text": [
      "True\n"
     ]
    }
   ],
   "source": [
    "print(4!=7)"
   ]
  },
  {
   "cell_type": "code",
   "execution_count": 32,
   "id": "62573a33",
   "metadata": {},
   "outputs": [
    {
     "name": "stdout",
     "output_type": "stream",
     "text": [
      "False\n"
     ]
    }
   ],
   "source": [
    "print(4!=4)"
   ]
  },
  {
   "cell_type": "code",
   "execution_count": 33,
   "id": "76dd5c77",
   "metadata": {},
   "outputs": [
    {
     "name": "stdout",
     "output_type": "stream",
     "text": [
      "True\n"
     ]
    }
   ],
   "source": [
    "print(4==4)"
   ]
  },
  {
   "cell_type": "markdown",
   "id": "42910ea7",
   "metadata": {},
   "source": [
    "compound assignment operators\n",
    "+=,\n",
    "-=,*=,\n",
    "/=,\n",
    "%=,\n",
    "//=\n",
    "\n"
   ]
  },
  {
   "cell_type": "code",
   "execution_count": 34,
   "id": "15ff86ea",
   "metadata": {},
   "outputs": [
    {
     "name": "stdout",
     "output_type": "stream",
     "text": [
      "3\n"
     ]
    }
   ],
   "source": [
    "num=2\n",
    "#num=num+1\n",
    "num+=1\n",
    "print(num)"
   ]
  },
  {
   "cell_type": "code",
   "execution_count": null,
   "id": "30119397",
   "metadata": {},
   "outputs": [],
   "source": [
    "n=21\n",
    "n//=2\n",
    "print(n)"
   ]
  },
  {
   "cell_type": "markdown",
   "id": "ba59de60",
   "metadata": {},
   "source": [
    "bank program"
   ]
  },
  {
   "cell_type": "code",
   "execution_count": 1,
   "id": "f2731ad7",
   "metadata": {
    "scrolled": true
   },
   "outputs": [
    {
     "name": "stdout",
     "output_type": "stream",
     "text": [
      "enter the withdrawing amt\t111\n",
      "your balance is 99889\n"
     ]
    }
   ],
   "source": [
    "fixed_amount=100000\n",
    "withdrawn=int(input(\"enter the withdrawing amt\\t\"))\n",
    "balance=fixed_amount-withdrawn\n",
    "print(\"your balance is\",balance)\n"
   ]
  },
  {
   "cell_type": "code",
   "execution_count": 2,
   "id": "3e596372",
   "metadata": {},
   "outputs": [
    {
     "name": "stdout",
     "output_type": "stream",
     "text": [
      "enter the withdrawing amount888\n",
      "your balance is 9112\n"
     ]
    }
   ],
   "source": [
    "fixedamount=10000\n",
    "withdrawn=int(input(\"enter the withdrawing amount\"))\n",
    "balance=fixedamount-withdrawn\n",
    "print(\"your balance is\",balance)"
   ]
  },
  {
   "cell_type": "markdown",
   "id": "f18e30a6",
   "metadata": {},
   "source": [
    "swaping methods "
   ]
  },
  {
   "cell_type": "code",
   "execution_count": 3,
   "id": "aa4c47e5",
   "metadata": {},
   "outputs": [
    {
     "name": "stdout",
     "output_type": "stream",
     "text": [
      "before swaping num1&num2 5 10\n",
      "after swaping num1 10\n",
      "after swaping num2 5\n"
     ]
    }
   ],
   "source": [
    "num1=5\n",
    "num2=10\n",
    "print(\"before swaping num1&num2\",num1,num2)\n",
    "temp=num1\n",
    "num1=num2\n",
    "num2=temp\n",
    "print(\"after swaping num1\", num1)\n",
    "print(\"after swaping num2\", num2)"
   ]
  },
  {
   "cell_type": "markdown",
   "id": "6ec305c5",
   "metadata": {},
   "source": [
    "method2 without temporary variable"
   ]
  },
  {
   "cell_type": "code",
   "execution_count": null,
   "id": "337f0704",
   "metadata": {},
   "outputs": [],
   "source": []
  },
  {
   "cell_type": "code",
   "execution_count": null,
   "id": "25c37685",
   "metadata": {},
   "outputs": [],
   "source": [
    "num1=5\n",
    "num2=10\n",
    "print(\"before swaping num1 and num2\",num1,num2)\n",
    "num1,num2=num2,num1\n",
    "print(\"after swaping num1\", num1)\n",
    "print(\"after swaping num2\", num2)"
   ]
  },
  {
   "cell_type": "markdown",
   "id": "4eb02e88",
   "metadata": {},
   "source": [
    "control statements\n",
    "\n",
    "controls flow of data\n",
    "\n",
    "1, decision making\n",
    "2,looping\n",
    "3,Switching"
   ]
  },
  {
   "cell_type": "markdown",
   "id": "e981ced7",
   "metadata": {},
   "source": [
    "decision making\n",
    "1,if\n",
    "\n",
    "2,if else\n",
    "\n",
    "3,if elif else\n",
    "\n"
   ]
  },
  {
   "cell_type": "markdown",
   "id": "bd88b1be",
   "metadata": {},
   "source": [
    "bank program"
   ]
  },
  {
   "cell_type": "code",
   "execution_count": 4,
   "id": "6b38b94d",
   "metadata": {},
   "outputs": [
    {
     "name": "stdout",
     "output_type": "stream",
     "text": [
      "enter amount to withdrawn33333333333333\n",
      "insufficient balance\n"
     ]
    }
   ],
   "source": [
    "fixed_amount=100000\n",
    "withdrawn=int(input(\"enter amount to withdrawn\"))\n",
    "if withdrawn<=fixed_amount:\n",
    "    balance=fixed_amount-withdrawn\n",
    "    print(\"Your current balance\",balance)\n",
    "else:\n",
    "    print(\"insufficient balance\")"
   ]
  },
  {
   "cell_type": "markdown",
   "id": "b6ce9774",
   "metadata": {},
   "source": [
    "positive or not "
   ]
  },
  {
   "cell_type": "code",
   "execution_count": 5,
   "id": "05576e2e",
   "metadata": {
    "scrolled": true
   },
   "outputs": [
    {
     "name": "stdout",
     "output_type": "stream",
     "text": [
      "entre the number7\n",
      "positive\n"
     ]
    }
   ],
   "source": [
    "num=int(input(\"entre the number\"))\n",
    "if num>0:\n",
    "\n",
    "    \n",
    "    print(\"positive\")\n",
    "else:\n",
    "    print(\"negative\")"
   ]
  },
  {
   "cell_type": "code",
   "execution_count": 7,
   "id": "771b9495",
   "metadata": {
    "scrolled": true
   },
   "outputs": [
    {
     "name": "stdout",
     "output_type": "stream",
     "text": [
      "entre the number\n",
      "0\n",
      "number is zero\n"
     ]
    }
   ],
   "source": [
    "num1=float(input(\"entre the number\\n\"))\n",
    "if num1>0:\n",
    "    print(\"positive\")\n",
    "elif num1<0:\n",
    "    print(\"negative\")\n",
    "else:\n",
    "    print(\"number is zero\")"
   ]
  },
  {
   "cell_type": "code",
   "execution_count": null,
   "id": "e3287dd3",
   "metadata": {},
   "outputs": [],
   "source": [
    "###### num1== num2  num1is greater num2,num1lesser num2,\n",
    "num1=int(input(\"entre the number1\\t\"))\n",
    "\n",
    "num2=int(input(\"entre the number2\\t\"))\n",
    "if (num1==num2):\n",
    "    print(\"they are equal\")\n",
    "elif (num1<num2):\n",
    "    print(\"num1 is less than num2\")\n",
    "else:\n",
    "    print(\"num1 is greater than num2\")"
   ]
  },
  {
   "cell_type": "markdown",
   "id": "721009e4",
   "metadata": {},
   "source": [
    "looping\n",
    "1,for\n",
    "2,while"
   ]
  },
  {
   "cell_type": "markdown",
   "id": "a186f747",
   "metadata": {},
   "source": [
    "\"in\" is a keyword\n",
    "\"range\" is a function"
   ]
  },
  {
   "cell_type": "markdown",
   "id": "db93cf54",
   "metadata": {},
   "source": [
    "#to print hello 5 times"
   ]
  },
  {
   "cell_type": "code",
   "execution_count": 8,
   "id": "e401c3d3",
   "metadata": {
    "scrolled": true
   },
   "outputs": [
    {
     "name": "stdout",
     "output_type": "stream",
     "text": [
      "0 hello\n",
      "1 hello\n",
      "2 hello\n",
      "3 hello\n",
      "4 hello\n"
     ]
    }
   ],
   "source": [
    "for a in range(5):\n",
    "    print(a,\"hello\")\n"
   ]
  },
  {
   "cell_type": "code",
   "execution_count": 9,
   "id": "5323d2bf",
   "metadata": {
    "scrolled": false
   },
   "outputs": [
    {
     "name": "stdout",
     "output_type": "stream",
     "text": [
      "2 hello\n",
      "3 hello\n",
      "4 hello\n"
     ]
    }
   ],
   "source": [
    "#to print within range 2 to 5\n",
    "for a in range(2,5):\n",
    "    print(a,\"hello\")"
   ]
  },
  {
   "cell_type": "code",
   "execution_count": 1,
   "id": "2df878a1",
   "metadata": {},
   "outputs": [
    {
     "name": "stdout",
     "output_type": "stream",
     "text": [
      "3\n",
      "5\n",
      "7\n",
      "9\n"
     ]
    }
   ],
   "source": [
    "#program to denote increment\n",
    "for a in range(3,10,2):\n",
    "    print(a)"
   ]
  },
  {
   "cell_type": "code",
   "execution_count": 2,
   "id": "89a3161a",
   "metadata": {},
   "outputs": [
    {
     "name": "stdout",
     "output_type": "stream",
     "text": [
      "10\n",
      "9\n",
      "8\n",
      "7\n",
      "6\n",
      "5\n",
      "4\n",
      "3\n",
      "2\n",
      "1\n"
     ]
    }
   ],
   "source": [
    "#to decrement\n",
    "for a in range(10,0,-1):\n",
    "    print(a)"
   ]
  },
  {
   "cell_type": "code",
   "execution_count": 4,
   "id": "1ec91886",
   "metadata": {},
   "outputs": [
    {
     "name": "stdout",
     "output_type": "stream",
     "text": [
      "enter the number5\n",
      "1 * 5 = 5\n",
      "2 * 5 = 10\n",
      "3 * 5 = 15\n",
      "4 * 5 = 20\n",
      "5 * 5 = 25\n",
      "6 * 5 = 30\n",
      "7 * 5 = 35\n",
      "8 * 5 = 40\n",
      "9 * 5 = 45\n",
      "10 * 5 = 50\n"
     ]
    }
   ],
   "source": [
    "#program to print multiplication table\n",
    "num=int(input(\"enter the number\"))\n",
    "for i in range(1, 11):\n",
    "    print(i,\"*\",num,\"=\",i*num)"
   ]
  },
  {
   "cell_type": "code",
   "execution_count": 6,
   "id": "46a2331c",
   "metadata": {},
   "outputs": [
    {
     "name": "stdout",
     "output_type": "stream",
     "text": [
      "enter the initial number\n",
      "7\n",
      "enter the final number\n",
      "20\n",
      "8\n",
      "10\n",
      "12\n",
      "14\n",
      "16\n",
      "18\n",
      "20\n"
     ]
    }
   ],
   "source": [
    "#user input method of initial and final range and find even number\n",
    "num1=int(input(\"enter the initial number\\n\"))\n",
    "num2=int(input(\"enter the final number\\n\",))\n",
    "for a in range(num1,num2+1):\n",
    "    if a%2==0:\n",
    "        print(a)"
   ]
  },
  {
   "cell_type": "code",
   "execution_count": 9,
   "id": "b48dbd88",
   "metadata": {},
   "outputs": [
    {
     "name": "stdout",
     "output_type": "stream",
     "text": [
      "enter the num\t 4\n",
      "10\n"
     ]
    }
   ],
   "source": [
    "#to print sum of natural number\n",
    "num=int(input(\"enter the num\\t \"))\n",
    "sum=0\n",
    "for a in range(num+1):\n",
    "    sum=sum+a\n",
    "print(sum)"
   ]
  },
  {
   "cell_type": "code",
   "execution_count": 12,
   "id": "2932336b",
   "metadata": {},
   "outputs": [
    {
     "name": "stdout",
     "output_type": "stream",
     "text": [
      "enter the num7\n",
      "1\n",
      "2\n",
      "6\n",
      "24\n",
      "120\n",
      "720\n",
      "5040\n"
     ]
    }
   ],
   "source": [
    "#factorial\n",
    "num=int(input(\"enter the num\"))\n",
    "fact=1\n",
    "for a in range(1,num+1):\n",
    "    fact=fact*a\n",
    "    print(fact)"
   ]
  },
  {
   "cell_type": "code",
   "execution_count": 14,
   "id": "9c031e4a",
   "metadata": {},
   "outputs": [
    {
     "name": "stdout",
     "output_type": "stream",
     "text": [
      "1\n",
      "2\n",
      "3\n",
      "4\n",
      "5\n",
      "6\n",
      "7\n",
      "8\n",
      "9\n",
      "10\n"
     ]
    }
   ],
   "source": [
    "#while loop\n",
    "#program to print 1 to 10 \n",
    "i=1\n",
    "while i<=10:\n",
    "    print(i)\n",
    "    i+=1\n"
   ]
  },
  {
   "cell_type": "code",
   "execution_count": 16,
   "id": "8205b990",
   "metadata": {},
   "outputs": [
    {
     "name": "stdout",
     "output_type": "stream",
     "text": [
      "enter the number3\n",
      "1 * 3 = 3\n",
      "2 * 3 = 6\n",
      "3 * 3 = 9\n",
      "4 * 3 = 12\n",
      "5 * 3 = 15\n",
      "6 * 3 = 18\n",
      "7 * 3 = 21\n",
      "8 * 3 = 24\n",
      "9 * 3 = 27\n",
      "10 * 3 = 30\n"
     ]
    }
   ],
   "source": [
    "#print multiplication table using while loop\n",
    "i=1\n",
    "num=int(input(\"enter the number\"))\n",
    "while i<11:\n",
    "    print(i,\"*\",num,\"=\",i*num)\n",
    "    i+=1\n"
   ]
  },
  {
   "cell_type": "code",
   "execution_count": 17,
   "id": "61d3a101",
   "metadata": {},
   "outputs": [
    {
     "name": "stdout",
     "output_type": "stream",
     "text": [
      "enter the number5\n",
      "sum of first 5  natural numbers 15\n"
     ]
    }
   ],
   "source": [
    "#to print sum of natural numbers using while loop\n",
    "n=int(input(\"enter the number\"))\n",
    "sum=0\n",
    "i=0\n",
    "while i<n: \n",
    "     i=i+1\n",
    "     sum=sum+i\n",
    "print (\"sum of first\",n,\" natural numbers\",sum) \n",
    "\n"
   ]
  },
  {
   "cell_type": "markdown",
   "id": "333e1904",
   "metadata": {},
   "source": [
    "#to print sum of natural numbers using while loop\n",
    "num=int(input(\"enter the number\"))\n",
    "sum=0\n",
    "i=0\n",
    "while i<num: \n",
    "    i+=1\n",
    "    sum=sum+i\n",
    "print(sum)"
   ]
  },
  {
   "cell_type": "code",
   "execution_count": 19,
   "id": "77377ef1",
   "metadata": {},
   "outputs": [
    {
     "name": "stdout",
     "output_type": "stream",
     "text": [
      "enter the number4\n",
      "1\n",
      "2\n",
      "6\n",
      "24\n"
     ]
    }
   ],
   "source": [
    "#find factorial using while loop\n",
    "num=int(input(\"enter the number\"))\n",
    "fact=1\n",
    "i=1\n",
    "while i<=num:\n",
    "    fact=fact*i\n",
    "    i=i+1\n",
    "print(fact)    "
   ]
  },
  {
   "cell_type": "code",
   "execution_count": 23,
   "id": "20a3de9a",
   "metadata": {},
   "outputs": [
    {
     "name": "stdout",
     "output_type": "stream",
     "text": [
      "enter the number6\n",
      "2\n",
      "6\n",
      "12\n"
     ]
    }
   ],
   "source": [
    "#to find the sum of even numbers between 10 to 20\n",
    "num=int(input(\"enter the number\"))\n",
    "sum=0\n",
    "for i in range(1,num+1):\n",
    "    if(i%2==0):\n",
    "        sum=sum+i\n",
    "        print(sum)"
   ]
  },
  {
   "cell_type": "markdown",
   "id": "8f5531ce",
   "metadata": {},
   "source": [
    "Switching\n",
    "#break\n",
    "#continue"
   ]
  },
  {
   "cell_type": "code",
   "execution_count": 1,
   "id": "b354903e",
   "metadata": {
    "scrolled": false
   },
   "outputs": [
    {
     "name": "stdout",
     "output_type": "stream",
     "text": [
      "0\n",
      "1\n",
      "2\n",
      "3\n"
     ]
    }
   ],
   "source": [
    "for i in range(5):\n",
    "    if i==4:\n",
    "        break\n",
    "    print(i)"
   ]
  },
  {
   "cell_type": "code",
   "execution_count": 2,
   "id": "20db8b68",
   "metadata": {},
   "outputs": [
    {
     "name": "stdout",
     "output_type": "stream",
     "text": [
      "0\n",
      "1\n",
      "2\n",
      "3\n",
      "5\n"
     ]
    }
   ],
   "source": [
    "#continue\n",
    "for i in range(6):\n",
    "    if i==4:\n",
    "        continue\n",
    "    print(i)"
   ]
  },
  {
   "cell_type": "code",
   "execution_count": null,
   "id": "9075efa3",
   "metadata": {},
   "outputs": [],
   "source": [
    "#string manipulation \n"
   ]
  },
  {
   "cell_type": "code",
   "execution_count": 3,
   "id": "0b40355b",
   "metadata": {},
   "outputs": [
    {
     "name": "stdout",
     "output_type": "stream",
     "text": [
      "l\n",
      "i\n",
      "v\n",
      "e\n",
      "w\n",
      "i\n",
      "r\n",
      "e\n",
      " \n",
      "s\n",
      "a\n",
      "h\n",
      "a\n",
      "r\n",
      "a\n"
     ]
    }
   ],
   "source": [
    "s=\"livewire sahara\"\n",
    "for i in s:\n",
    "    print(i)"
   ]
  },
  {
   "cell_type": "code",
   "execution_count": 6,
   "id": "d73e9092",
   "metadata": {},
   "outputs": [
    {
     "name": "stdout",
     "output_type": "stream",
     "text": [
      "enter the element to search\n",
      "i\n",
      "present\n"
     ]
    }
   ],
   "source": [
    "#data iteration\n",
    "s=\"livewire sahara\"\n",
    "k=input(\"enter the element to search\\n\")\n",
    "flag=0\n",
    "for i in s:\n",
    "    if i==k:\n",
    "        flag=1\n",
    "        break\n",
    "if flag==1:\n",
    "    print(\"present\")\n",
    "else:\n",
    "    print(\"not present\")"
   ]
  },
  {
   "cell_type": "code",
   "execution_count": 7,
   "id": "f0bc9879",
   "metadata": {},
   "outputs": [
    {
     "name": "stdout",
     "output_type": "stream",
     "text": [
      "1\n",
      "2\n",
      "3\n",
      "4\n",
      "5\n"
     ]
    }
   ],
   "source": [
    "#+ve number -5 to 5\n",
    "for i in range(-5,5+1):\n",
    "    if i>0:\n",
    "        print(i)"
   ]
  },
  {
   "cell_type": "code",
   "execution_count": 9,
   "id": "a911ab81",
   "metadata": {},
   "outputs": [
    {
     "name": "stdout",
     "output_type": "stream",
     "text": [
      "enter the element\n",
      "j\n",
      "not present\n"
     ]
    }
   ],
   "source": [
    "#check an element is present or not  in a string\n",
    "s=\"abc\"\n",
    "e=input(\"enter the element\\n\")\n",
    "if e in s:\n",
    "    print(\"present\")\n",
    "else:\n",
    "    print(\"not present\")"
   ]
  },
  {
   "cell_type": "markdown",
   "id": "3a72e4f0",
   "metadata": {},
   "source": [
    "or"
   ]
  },
  {
   "cell_type": "code",
   "execution_count": 16,
   "id": "380c1921",
   "metadata": {},
   "outputs": [
    {
     "name": "stdout",
     "output_type": "stream",
     "text": [
      "enter the element\n",
      "a\n",
      "present\n"
     ]
    }
   ],
   "source": [
    "s=\"abc\"\n",
    "e=input(\"enter the element\\n\")\n",
    "if e not in s:\n",
    "    print(\"not present\")\n",
    "else:\n",
    "    print(\"present\")\n",
    "    #in string case only uses(in / not in )"
   ]
  },
  {
   "cell_type": "code",
   "execution_count": 18,
   "id": "1f60f074",
   "metadata": {
    "scrolled": true
   },
   "outputs": [
    {
     "name": "stdout",
     "output_type": "stream",
     "text": [
      "livesahara\n"
     ]
    }
   ],
   "source": [
    "#TO print content of a in b\n",
    "a=\"livesahara\"\n",
    "b=\"\"\n",
    "for i in a:\n",
    "    b=b+i\n",
    "print(b)"
   ]
  },
  {
   "cell_type": "code",
   "execution_count": 22,
   "id": "cec67943",
   "metadata": {},
   "outputs": [
    {
     "name": "stdout",
     "output_type": "stream",
     "text": [
      "enter the element to remove\n",
      "e\n",
      " livwir sahara\n"
     ]
    }
   ],
   "source": [
    "#TO remove element from a string\n",
    "s=\"livewire sahara\"\n",
    "b=input(\"enter the element to remove\\n\")\n",
    "new=\" \"\n",
    "for i in s:\n",
    "    if i not in b:\n",
    "        new=new+i\n",
    "print(new)"
   ]
  },
  {
   "cell_type": "code",
   "execution_count": 24,
   "id": "fb2a0b5b",
   "metadata": {},
   "outputs": [
    {
     "name": "stdout",
     "output_type": "stream",
     "text": [
      "hihello\n"
     ]
    }
   ],
   "source": [
    "#string concatenation\n",
    "a=\"hi\"\n",
    "b=\"hello\"\n",
    "print(a+b) "
   ]
  },
  {
   "cell_type": "code",
   "execution_count": null,
   "id": "7656c3e3",
   "metadata": {},
   "outputs": [],
   "source": []
  },
  {
   "cell_type": "code",
   "execution_count": 25,
   "id": "14f27ddc",
   "metadata": {
    "scrolled": true
   },
   "outputs": [
    {
     "name": "stdout",
     "output_type": "stream",
     "text": [
      "enter the letter\n",
      "a\n",
      "count of  a in livewire sahara = 3\n"
     ]
    }
   ],
   "source": [
    "#to count the element that uses input\n",
    "s=\"livewire sahara\"\n",
    "e=input(\"enter the letter\\n\")\n",
    "num=0\n",
    "for i in s:\n",
    "    if i in e:\n",
    "        num+=1\n",
    "print(\"count of \",e,\"in\",s,\"=\",num)"
   ]
  },
  {
   "cell_type": "code",
   "execution_count": 26,
   "id": "59eb208c",
   "metadata": {},
   "outputs": [
    {
     "name": "stdout",
     "output_type": "stream",
     "text": [
      "count of  aeiouAEIOU in livewire sahara = 7\n"
     ]
    }
   ],
   "source": [
    "\n",
    "#to find out count of vowels in string \n",
    "s=\"livewire sahara\"\n",
    "e=\"aeiouAEIOU\"\n",
    "count=0\n",
    "for i in s:\n",
    "    if i in e:\n",
    "        count+=1\n",
    "print(\"count of \",e,\"in\",s,\"=\",count)"
   ]
  },
  {
   "cell_type": "code",
   "execution_count": 2,
   "id": "46b5fd1a",
   "metadata": {},
   "outputs": [
    {
     "name": "stdout",
     "output_type": "stream",
     "text": [
      "enter the string livewirwsahara\n",
      "lvwrwshr\n"
     ]
    }
   ],
   "source": [
    "#to remove vowels from user input string\n",
    "s=input(\"enter the string \")\n",
    "e=\"aeiouAEIOU\"\n",
    "new=\"\"\n",
    "for i in s:\n",
    "    if i not in e:\n",
    "        new=new+i\n",
    "print(new)"
   ]
  },
  {
   "cell_type": "code",
   "execution_count": 4,
   "id": "cd1c7f7a",
   "metadata": {},
   "outputs": [
    {
     "name": "stdout",
     "output_type": "stream",
     "text": [
      "enter the string\taaabbbccc\n",
      "a\n"
     ]
    }
   ],
   "source": [
    "#to find the first recursive element\n",
    "s=input(\"enter the string\\t\")\n",
    "new=\"\"\n",
    "for i in s:\n",
    "    if i not in new:\n",
    "        new+=i\n",
    "    else:\n",
    "        print(i)\n",
    "        break"
   ]
  },
  {
   "cell_type": "markdown",
   "id": "054f229a",
   "metadata": {},
   "source": [
    "string indexing"
   ]
  },
  {
   "cell_type": "code",
   "execution_count": 11,
   "id": "55247732",
   "metadata": {},
   "outputs": [
    {
     "name": "stdout",
     "output_type": "stream",
     "text": [
      "a\n"
     ]
    }
   ],
   "source": [
    "s=\"livewire sahara\"\n",
    "print(s[-1])"
   ]
  },
  {
   "cell_type": "code",
   "execution_count": 8,
   "id": "980b73ea",
   "metadata": {},
   "outputs": [],
   "source": [
    "#to find final recursive element "
   ]
  },
  {
   "cell_type": "code",
   "execution_count": 13,
   "id": "802acbc6",
   "metadata": {},
   "outputs": [
    {
     "name": "stdout",
     "output_type": "stream",
     "text": [
      "enter the string\n",
      "aabbcc\n",
      "final recursive element from abc is c\n"
     ]
    }
   ],
   "source": [
    "s=input(\"enter the string\\n\")\n",
    "new=\"\"\n",
    "rep=\"\"\n",
    "for i in s:\n",
    "    if i not in new:\n",
    "        new+=i\n",
    "    else:\n",
    "        rep+=i\n",
    "print(\"final recursive element from\",rep,\"is\",rep[-1])"
   ]
  },
  {
   "cell_type": "code",
   "execution_count": 16,
   "id": "320fcf83",
   "metadata": {},
   "outputs": [
    {
     "name": "stdout",
     "output_type": "stream",
     "text": [
      "enter the stringaabbcc\n",
      "second recursive element b\n"
     ]
    }
   ],
   "source": [
    "#to find second recursive element \n",
    "s=input(\"enter the string\")\n",
    "new=\"\"\n",
    "rep=\"\"\n",
    "for i in s:\n",
    "    if i not in new:\n",
    "        new+=i\n",
    "    else:\n",
    "        rep+=i\n",
    "print(\"second recursive element\" ,rep[1])"
   ]
  },
  {
   "cell_type": "code",
   "execution_count": null,
   "id": "ac664185",
   "metadata": {},
   "outputs": [],
   "source": [
    "#string slicing[index and data slicing are supported in python]"
   ]
  },
  {
   "cell_type": "code",
   "execution_count": 17,
   "id": "cb93b293",
   "metadata": {},
   "outputs": [
    {
     "name": "stdout",
     "output_type": "stream",
     "text": [
      "vew\n"
     ]
    }
   ],
   "source": [
    "s=\"Livewire sahara\"\n",
    "print(s[2:5])"
   ]
  },
  {
   "cell_type": "code",
   "execution_count": 18,
   "id": "ea50f3ac",
   "metadata": {},
   "outputs": [
    {
     "name": "stdout",
     "output_type": "stream",
     "text": [
      "vwr \n",
      "Livewire sahara\n",
      "Lvwr aaa\n",
      "arahas eriweviL\n"
     ]
    }
   ],
   "source": [
    "print(s[2:10:2])\n",
    "print(s[:])\n",
    "print(s[::2])\n",
    "print(s[::-1])"
   ]
  },
  {
   "cell_type": "code",
   "execution_count": 20,
   "id": "17bc997e",
   "metadata": {},
   "outputs": [
    {
     "name": "stdout",
     "output_type": "stream",
     "text": [
      "enter the string\n",
      "kerala\n",
      "not paliandrome\n"
     ]
    }
   ],
   "source": [
    "#paliandrome\n",
    "s=input(\"enter the string\\n\")\n",
    "if s[::]==s[::-1]:\n",
    "    print(\"paliandrome\")\n",
    "else:\n",
    "    print(\"not paliandrome\")   "
   ]
  },
  {
   "cell_type": "code",
   "execution_count": 21,
   "id": "bab6cc56",
   "metadata": {},
   "outputs": [],
   "source": [
    "#functions without  argumnets\n",
    "def add():\n",
    "    num1=int(input(\"enter num1\\t\"))\n",
    "    num2=int(input(\"enter num2\\t\"))\n",
    "    print(num1+num2)\n",
    "    print(\"sum is\",num1+num2)"
   ]
  },
  {
   "cell_type": "code",
   "execution_count": 22,
   "id": "d9cd8765",
   "metadata": {},
   "outputs": [
    {
     "name": "stdout",
     "output_type": "stream",
     "text": [
      "enter num1\t6\n",
      "enter num2\t7\n",
      "13\n",
      "sum is 13\n"
     ]
    }
   ],
   "source": [
    "add()"
   ]
  },
  {
   "cell_type": "code",
   "execution_count": 25,
   "id": "d0377edf",
   "metadata": {},
   "outputs": [
    {
     "data": {
      "text/plain": [
       "12"
      ]
     },
     "execution_count": 25,
     "metadata": {},
     "output_type": "execute_result"
    }
   ],
   "source": [
    "#functions with arguments\n",
    "def add(num1,num2):\n",
    "    sum=num1+num2\n",
    "    return(sum)\n",
    "    \n",
    "add(4,8)\n",
    "#a=add(4,8)\n",
    "#ab"
   ]
  },
  {
   "cell_type": "code",
   "execution_count": 26,
   "id": "d5e18d58",
   "metadata": {},
   "outputs": [
    {
     "data": {
      "text/plain": [
       "17"
      ]
     },
     "execution_count": 26,
     "metadata": {},
     "output_type": "execute_result"
    }
   ],
   "source": [
    "add(9,8)"
   ]
  },
  {
   "cell_type": "code",
   "execution_count": null,
   "id": "faa50f88",
   "metadata": {
    "scrolled": true
   },
   "outputs": [],
   "source": [
    "add(9,55)"
   ]
  },
  {
   "cell_type": "code",
   "execution_count": null,
   "id": "b980e0ab",
   "metadata": {},
   "outputs": [],
   "source": [
    "add(77,99)"
   ]
  },
  {
   "cell_type": "code",
   "execution_count": null,
   "id": "10e8657d",
   "metadata": {},
   "outputs": [],
   "source": [
    "#functionwith argument and returntype "
   ]
  },
  {
   "cell_type": "code",
   "execution_count": 27,
   "id": "66f04412",
   "metadata": {},
   "outputs": [
    {
     "name": "stdout",
     "output_type": "stream",
     "text": [
      "5\n"
     ]
    }
   ],
   "source": [
    "def add(n1,n2):\n",
    "    return(n1+n2)\n",
    "print(add(2,3))"
   ]
  },
  {
   "cell_type": "code",
   "execution_count": null,
   "id": "14ab9fa8",
   "metadata": {},
   "outputs": [],
   "source": []
  },
  {
   "cell_type": "code",
   "execution_count": null,
   "id": "43c5c930",
   "metadata": {},
   "outputs": [],
   "source": [
    "#to get output variable through input"
   ]
  },
  {
   "cell_type": "code",
   "execution_count": 28,
   "id": "c21459cb",
   "metadata": {},
   "outputs": [
    {
     "name": "stdout",
     "output_type": "stream",
     "text": [
      "enter the num16\n",
      "enter the num27\n",
      "13\n"
     ]
    }
   ],
   "source": [
    "def add(n1,n2):\n",
    "    return(n1+n2)\n",
    "n1=int(input(\"enter the num1\"))\n",
    "n2=int(input(\"enter the num2\"))\n",
    "print(add(n1,n2))"
   ]
  },
  {
   "cell_type": "code",
   "execution_count": 29,
   "id": "85465063",
   "metadata": {},
   "outputs": [
    {
     "data": {
      "text/plain": [
       "13"
      ]
     },
     "execution_count": 29,
     "metadata": {},
     "output_type": "execute_result"
    }
   ],
   "source": [
    "add(n1,n2)"
   ]
  },
  {
   "cell_type": "code",
   "execution_count": 3,
   "id": "b60c9eb9",
   "metadata": {},
   "outputs": [
    {
     "name": "stdout",
     "output_type": "stream",
     "text": [
      "enter the string\n",
      "hhhjj\n",
      "not paliandrome\n"
     ]
    }
   ],
   "source": [
    "#paliandrome function without argument\n",
    "def paliandrome():\n",
    "    s=input(\"enter the string\\n\")\n",
    "    if s==s[::-1]:\n",
    "        print(\"paliandrome\")\n",
    "    else:\n",
    "        print(\"not paliandrome\")\n",
    "paliandrome() "
   ]
  },
  {
   "cell_type": "code",
   "execution_count": 4,
   "id": "1259806a",
   "metadata": {},
   "outputs": [
    {
     "name": "stdout",
     "output_type": "stream",
     "text": [
      "paliandrome\n"
     ]
    }
   ],
   "source": [
    "#function with argument\n",
    "def paliandrome(s):\n",
    "    if s==s[::-1]:\n",
    "        print(\"paliandrome\")\n",
    "    else:\n",
    "        print(\"not paliandrome\")\n",
    "paliandrome(\"malayalam\") "
   ]
  },
  {
   "cell_type": "code",
   "execution_count": 6,
   "id": "b1ff1eef",
   "metadata": {},
   "outputs": [
    {
     "name": "stdout",
     "output_type": "stream",
     "text": [
      "paliandrome\n"
     ]
    }
   ],
   "source": [
    "paliandrome(\"malayalam\")"
   ]
  },
  {
   "cell_type": "code",
   "execution_count": 7,
   "id": "3a764944",
   "metadata": {},
   "outputs": [
    {
     "name": "stdout",
     "output_type": "stream",
     "text": [
      "not paliandrome\n"
     ]
    }
   ],
   "source": [
    "#function with argument and return type\n",
    "def paliandrome(s):\n",
    "    if s==s[::-1]:\n",
    "        return(\"paliandrome\")\n",
    "    else:\n",
    "        return(\"not paliandrome\")\n",
    "print(paliandrome(\"abcd\"))"
   ]
  },
  {
   "cell_type": "code",
   "execution_count": null,
   "id": "bbc462ff",
   "metadata": {},
   "outputs": [
    {
     "name": "stdout",
     "output_type": "stream",
     "text": [
      "select option\n",
      "1 add\n",
      "2 sub\n",
      "3 mult\n",
      "4 div\n",
      "5 stop2\n",
      "enter the num1\t22\n",
      "enter the num2\t6\n",
      "16\n",
      "select option\n",
      "1 add\n",
      "2 sub\n",
      "3 mult\n",
      "4 div\n",
      "5 stop6\n",
      "enter the num1\t6\n",
      "enter the num2\t9\n",
      "invalid input\n"
     ]
    }
   ],
   "source": [
    "#to set calculator problem\n",
    "#options\n",
    "#1,add\n",
    "#2,subtraction\n",
    "#3,multiplication\n",
    "#4,divison\n",
    "def add(x,y):\n",
    "    return (x+y)\n",
    "def sub(x,y):\n",
    "    return(x-y)  \n",
    "def mult(x,y):\n",
    "    return(x*y)\n",
    "def div(x,y):\n",
    "    return(x/y)\n",
    "while True:\n",
    "    option=int(input(\"select option\\n1 add\\n2 sub\\n3 mult\\n4 div\\n5 stop\"))\n",
    "    num1=int(input(\"enter the num1\\t\"))\n",
    "    num2=int(input(\"enter the num2\\t\"))\n",
    "    if option==1:\n",
    "        print(add(num1,num2))\n",
    "    elif option==2:\n",
    "        print(sub(num1,num2))\n",
    "    elif option==3:\n",
    "        print(mult(num1,num2))\n",
    "    elif option==4:\n",
    "        print(div(num1,num2))\n",
    "    elif option==5:\n",
    "        break\n",
    "    else:\n",
    "        print(\"invalid input\")"
   ]
  },
  {
   "cell_type": "code",
   "execution_count": 1,
   "id": "3e64f800",
   "metadata": {},
   "outputs": [
    {
     "name": "stdout",
     "output_type": "stream",
     "text": [
      "enter the number7\n",
      "prime\n"
     ]
    }
   ],
   "source": [
    "#prime number\n",
    "n=int(input (\"enter the number\"))\n",
    "for i in range(2,n):\n",
    "    if n%i==0:\n",
    "        print(\"not prime\")\n",
    "    \n",
    "        break\n",
    "else:\n",
    "    print(\"prime\")"
   ]
  },
  {
   "cell_type": "markdown",
   "id": "5fa0d079",
   "metadata": {},
   "source": []
  },
  {
   "cell_type": "code",
   "execution_count": 3,
   "id": "c5579dbe",
   "metadata": {
    "scrolled": true
   },
   "outputs": [
    {
     "name": "stdout",
     "output_type": "stream",
     "text": [
      "0\n",
      "1\n",
      "1\n",
      "2\n",
      "3\n",
      "5\n",
      "8\n",
      "13\n",
      "21\n",
      "34\n"
     ]
    }
   ],
   "source": [
    "#first 10 numbers of fibonacci sereis using for loop \n",
    "n1=0\n",
    "n2=1\n",
    "for i in range (10):\n",
    "    print(n1)\n",
    "    n=n1+n2\n",
    "    n1=n2\n",
    "    n2=n\n"
   ]
  },
  {
   "cell_type": "code",
   "execution_count": 4,
   "id": "f5eff16c",
   "metadata": {},
   "outputs": [
    {
     "name": "stdout",
     "output_type": "stream",
     "text": [
      "0\n",
      "1\n",
      "1\n",
      "2\n",
      "3\n",
      "5\n",
      "8\n",
      "13\n",
      "21\n",
      "34\n"
     ]
    }
   ],
   "source": [
    "#first 10 numbers of fibonacci sereis using while loop \n",
    "n1=0\n",
    "n2=1\n",
    "i=0\n",
    "while i<10:\n",
    "    print(n1)\n",
    "    n=n1+n2\n",
    "    n1=n2\n",
    "    n2=n\n",
    "    i=i+1"
   ]
  },
  {
   "cell_type": "code",
   "execution_count": 6,
   "id": "5f34721a",
   "metadata": {},
   "outputs": [
    {
     "name": "stdout",
     "output_type": "stream",
     "text": [
      "enter the count6\n",
      "0\n",
      "1\n",
      "1\n",
      "2\n",
      "3\n",
      "5\n"
     ]
    }
   ],
   "source": [
    "def fibonacci(nterms):\n",
    "    n1=0\n",
    "    n2=1\n",
    "    i=0\n",
    "    while i<nterms:\n",
    "        print(n1)\n",
    "        n=n1+n2\n",
    "        n1=n2\n",
    "        n2=n\n",
    "        i=i+1\n",
    "nterms=int(input(\"enter the count\"))\n",
    "fibonacci(nterms)"
   ]
  },
  {
   "cell_type": "code",
   "execution_count": 4,
   "id": "4b64652c",
   "metadata": {},
   "outputs": [
    {
     "name": "stdout",
     "output_type": "stream",
     "text": [
      "LIVEWIRE\n",
      "sahara\n"
     ]
    }
   ],
   "source": [
    "#to upper\n",
    "s=\"livewire\" \n",
    "u=s.upper()\n",
    "print(u)\n",
    "#TO LOWER\n",
    "I=\"SAHARA\"\n",
    "l=I.lower()\n",
    "print(l)"
   ]
  },
  {
   "cell_type": "code",
   "execution_count": null,
   "id": "46b31918",
   "metadata": {},
   "outputs": [],
   "source": [
    "y=3\n",
    "def prin(y):\n",
    "    #x=10\n",
    "    #print(x)\n",
    "    y=y+3\n",
    "    print(prin(y))\n"
   ]
  },
  {
   "cell_type": "code",
   "execution_count": 9,
   "id": "d63fa074",
   "metadata": {},
   "outputs": [
    {
     "name": "stdout",
     "output_type": "stream",
     "text": [
      "\n",
      "* \n",
      "* * \n",
      "* * * \n",
      "* * * * \n"
     ]
    }
   ],
   "source": [
    "#Pattern printing\n",
    "for i in range (5):#rows\n",
    "    for j in range(i):#columns\n",
    "        print(\"*\",end=\" \")\n",
    "    print()\n"
   ]
  },
  {
   "cell_type": "code",
   "execution_count": 4,
   "id": "45df88d6",
   "metadata": {},
   "outputs": [
    {
     "name": "stdout",
     "output_type": "stream",
     "text": [
      "* * * * * \n",
      "* * * * \n",
      "* * * \n",
      "* * \n",
      "* \n"
     ]
    }
   ],
   "source": [
    "for i in range (5,0,-1):#rows\n",
    "    for j in range (i):#columns\n",
    "        print(\"*\", end=\" \")\n",
    "    print()"
   ]
  },
  {
   "cell_type": "code",
   "execution_count": 2,
   "id": "39d7e320",
   "metadata": {},
   "outputs": [
    {
     "name": "stdout",
     "output_type": "stream",
     "text": [
      "* * * * * * \n",
      "* * * * * * \n",
      "* * * * * * \n",
      "* * * * * * \n",
      "* * * * * * \n",
      "* * * * * * \n"
     ]
    }
   ],
   "source": [
    "for i in range(6):#rows\n",
    "    for j in range (6):#columns\n",
    "        print(\"*\", end=\" \")\n",
    "    print()"
   ]
  },
  {
   "cell_type": "code",
   "execution_count": 5,
   "id": "8777dfaf",
   "metadata": {},
   "outputs": [
    {
     "name": "stdout",
     "output_type": "stream",
     "text": [
      "\n",
      "1 \n",
      "2 3 \n",
      "4 5 6 \n",
      "7 8 9 10 \n"
     ]
    }
   ],
   "source": [
    "num=1\n",
    "for i in range(5):#rows\n",
    "    for j in range(i):#columns\n",
    "        print(num, end=\" \")\n",
    "        num+=1\n",
    "    print()"
   ]
  },
  {
   "cell_type": "code",
   "execution_count": 10,
   "id": "7276287d",
   "metadata": {},
   "outputs": [
    {
     "name": "stdout",
     "output_type": "stream",
     "text": [
      "\n",
      "1 \n",
      "1 2 \n",
      "1 2 3 \n",
      "1 2 3 4 \n"
     ]
    }
   ],
   "source": [
    "\n",
    "for i in range(5):#rows\n",
    "    num=0\n",
    "    for j in range(i):#columns\n",
    "        print(num, end=\" \")\n",
    "        num+=1\n",
    "    print()\n",
    "    "
   ]
  },
  {
   "cell_type": "code",
   "execution_count": 9,
   "id": "b2fccf90",
   "metadata": {},
   "outputs": [
    {
     "name": "stdout",
     "output_type": "stream",
     "text": [
      "\n",
      "0 \n",
      "0 1 \n",
      "0 1 2 \n",
      "0 1 2 3 \n"
     ]
    }
   ],
   "source": [
    "for i in range(5):#rows\n",
    "    for j in range(i):#columns\n",
    "        print(j,end=\" \")\n",
    "    print()"
   ]
  },
  {
   "cell_type": "code",
   "execution_count": 9,
   "id": "01cbf8e9",
   "metadata": {},
   "outputs": [
    {
     "name": "stdout",
     "output_type": "stream",
     "text": [
      "\n",
      "1 \n",
      "2 2 \n",
      "3 3 3 \n",
      "4 4 4 4 \n"
     ]
    }
   ],
   "source": [
    "for i in range(5):#rows\n",
    "    for j in range(1):#columns\n",
    "        print(i, end=\" \")\n",
    "    print()"
   ]
  },
  {
   "cell_type": "code",
   "execution_count": 13,
   "id": "5c388c28",
   "metadata": {},
   "outputs": [
    {
     "name": "stdout",
     "output_type": "stream",
     "text": [
      "Enter number of rows: 5\n",
      "A \n",
      "\n",
      "B B \n",
      "\n",
      "C C C \n",
      "\n",
      "D D D D \n",
      "\n",
      "E E E E E \n",
      "\n"
     ]
    }
   ],
   "source": [
    "rows = int(input(\"Enter number of rows: \"))\n",
    "\n",
    "ascii_value = 65\n",
    "\n",
    "for i in range(rows):\n",
    "    for j in range(i+1):\n",
    "        alphabet = chr(ascii_value)\n",
    "        print(alphabet,end=\" \")\n",
    "    \n",
    "    ascii_value += 1\n",
    "    print(\"\\n\")"
   ]
  },
  {
   "cell_type": "code",
   "execution_count": 3,
   "id": "71b9c3a9",
   "metadata": {},
   "outputs": [
    {
     "name": "stdout",
     "output_type": "stream",
     "text": [
      "Enter number of rows: 5\n",
      "        * \n",
      "        * * * \n",
      "        * * * * * \n",
      "        * * * * * * * \n",
      "        * * * * * * * * * \n"
     ]
    }
   ],
   "source": [
    "rows = int(input(\"Enter number of rows: \"))\n",
    "k = 0\n",
    "i=0\n",
    "for i in range(1, (rows-i)+1):\n",
    "    for space in range(1, rows):\n",
    "        print(end=\"  \")\n",
    "    while k!=(2*i-1):\n",
    "        print(\"*\", end=\" \")\n",
    "        k += 1\n",
    "    k=0\n",
    "    print()\n"
   ]
  },
  {
   "cell_type": "code",
   "execution_count": 20,
   "id": "78e0c07b",
   "metadata": {},
   "outputs": [
    {
     "name": "stdout",
     "output_type": "stream",
     "text": [
      "0 \n",
      "0 1 \n",
      "0 2 4 \n",
      "0 3 6 9 \n",
      "0 4 8 12 16 \n",
      "0 5 10 15 20 25 \n",
      "0 6 12 18 24 30 36 \n",
      "0 7 14 21 28 35 42 49 \n",
      "0 8 16 24 32 40 48 56 64 \n"
     ]
    }
   ],
   "source": [
    "for i=1 in range(0,9):#i=2:0,1,2\n",
    "    for j=0,1 in range(i+1=2):\n",
    "        print(i*j, end=\" \")\n",
    "    print()"
   ]
  },
  {
   "cell_type": "code",
   "execution_count": null,
   "id": "749f63ba",
   "metadata": {},
   "outputs": [],
   "source": [
    "#data collection \n",
    "#set\n",
    "#list\n",
    "#dictionary\n",
    "#tuple"
   ]
  },
  {
   "cell_type": "code",
   "execution_count": 4,
   "id": "e00ba749",
   "metadata": {},
   "outputs": [
    {
     "data": {
      "text/plain": [
       "{1, 2, 3, 4}"
      ]
     },
     "execution_count": 4,
     "metadata": {},
     "output_type": "execute_result"
    }
   ],
   "source": [
    "#set\n",
    "a={1,2,3,4}\n",
    "a"
   ]
  },
  {
   "cell_type": "code",
   "execution_count": 5,
   "id": "1e3d719b",
   "metadata": {},
   "outputs": [
    {
     "data": {
      "text/plain": [
       "{1, 2, 3, 4, 5}"
      ]
     },
     "execution_count": 5,
     "metadata": {},
     "output_type": "execute_result"
    }
   ],
   "source": [
    "b={1,3,2,4,5}\n",
    "b#not follow given order"
   ]
  },
  {
   "cell_type": "code",
   "execution_count": 6,
   "id": "27b40e66",
   "metadata": {},
   "outputs": [
    {
     "name": "stdout",
     "output_type": "stream",
     "text": [
      "<class 'set'>\n"
     ]
    }
   ],
   "source": [
    "#to check the type of data collection \n",
    "print(type(a))"
   ]
  },
  {
   "cell_type": "code",
   "execution_count": 5,
   "id": "ee6e8a46",
   "metadata": {},
   "outputs": [
    {
     "data": {
      "text/plain": [
       "{1, 2, 3, 4, 5, 5.9, False, 'hello'}"
      ]
     },
     "execution_count": 5,
     "metadata": {},
     "output_type": "execute_result"
    }
   ],
   "source": [
    "#set is heterogenous\n",
    "a={1,2,3,5,4, \"hello\", 5.9, False }\n",
    "a"
   ]
  },
  {
   "cell_type": "code",
   "execution_count": 6,
   "id": "e82fa2a7",
   "metadata": {},
   "outputs": [
    {
     "data": {
      "text/plain": [
       "{1, 2, 3, 4, 5, 5.9, False, 'hello'}"
      ]
     },
     "execution_count": 6,
     "metadata": {},
     "output_type": "execute_result"
    }
   ],
   "source": [
    "#doesnt support duplicates\n",
    "a={1,2,3,5,4, \"hello\", 5.9, False,1,2,3,5,4, \"hello\", 5.9, False }\n",
    "a"
   ]
  },
  {
   "cell_type": "code",
   "execution_count": 7,
   "id": "4f5a1cb8",
   "metadata": {},
   "outputs": [
    {
     "data": {
      "text/plain": [
       "{False, True}"
      ]
     },
     "execution_count": 7,
     "metadata": {},
     "output_type": "execute_result"
    }
   ],
   "source": [
    "a={True, False}\n",
    "a"
   ]
  },
  {
   "cell_type": "code",
   "execution_count": 8,
   "id": "43938fb4",
   "metadata": {},
   "outputs": [
    {
     "name": "stdout",
     "output_type": "stream",
     "text": [
      "False\n",
      "1\n",
      "2\n",
      "3\n",
      "4\n",
      "5\n",
      "5.9\n",
      "hello\n"
     ]
    }
   ],
   "source": [
    "a={1,2,3,5,4, \"hello\", 5.9, False }\n",
    "for i in a:\n",
    "    print(i)\n"
   ]
  },
  {
   "cell_type": "code",
   "execution_count": 9,
   "id": "756db58e",
   "metadata": {},
   "outputs": [
    {
     "name": "stdout",
     "output_type": "stream",
     "text": [
      "<class 'set'>\n"
     ]
    }
   ],
   "source": [
    "#empty set\n",
    "set1=set()\n",
    "print(type(set1))"
   ]
  },
  {
   "cell_type": "code",
   "execution_count": 10,
   "id": "362ee8a9",
   "metadata": {},
   "outputs": [
    {
     "data": {
      "text/plain": [
       "{4}"
      ]
     },
     "execution_count": 10,
     "metadata": {},
     "output_type": "execute_result"
    }
   ],
   "source": [
    "#to add element\n",
    "set1=set()\n",
    "set1.add(4)\n",
    "set1"
   ]
  },
  {
   "cell_type": "code",
   "execution_count": 7,
   "id": "0604d433",
   "metadata": {},
   "outputs": [
    {
     "name": "stdout",
     "output_type": "stream",
     "text": [
      "{1, 2, 3, 4, 5, 6}\n"
     ]
    }
   ],
   "source": [
    "#to interchange set\n",
    "a={1,2,3,4,5,6}\n",
    "b=set()\n",
    "for i in a:\n",
    "    b.add(i)\n",
    "print(b)"
   ]
  },
  {
   "cell_type": "code",
   "execution_count": 8,
   "id": "c7236d39",
   "metadata": {},
   "outputs": [
    {
     "name": "stdout",
     "output_type": "stream",
     "text": [
      "{1, 3, 5} {-6, -4, -2}\n"
     ]
    }
   ],
   "source": [
    "#to print postive negative num in different sets\n",
    "s={1,-2,3,-4,5,-6}\n",
    "pos=set()\n",
    "neg=set()\n",
    "for i in s:\n",
    "    if i>0:\n",
    "        pos.add(i)\n",
    "    else:\n",
    "        neg.add(i)      \n",
    "print(pos,neg)"
   ]
  },
  {
   "cell_type": "code",
   "execution_count": null,
   "id": "ba45d819",
   "metadata": {},
   "outputs": [],
   "source": [
    "#To print even  ,odd in different sets\n",
    "s={1,2,3,4,4,55,66,9,43,67,89}\n",
    "ev=set()\n",
    "od=set()\n",
    "for i in s:\n",
    "    if i%2==0:\n",
    "        ev.add(i)\n",
    "    else:\n",
    "        od.add(i)\n",
    "print(ev, od)"
   ]
  },
  {
   "cell_type": "code",
   "execution_count": 13,
   "id": "5877f1b2",
   "metadata": {},
   "outputs": [
    {
     "name": "stdout",
     "output_type": "stream",
     "text": [
      "{64, 1, 8, 216, 27, 125}\n"
     ]
    }
   ],
   "source": [
    "#to find the cube\n",
    "s={1,2,3,4,5,6}\n",
    "cube=set()\n",
    "for i in s:\n",
    "    a=i**3\n",
    "    cube.add(a)\n",
    "print(cube)"
   ]
  },
  {
   "cell_type": "code",
   "execution_count": 14,
   "id": "56b2ab66",
   "metadata": {
    "scrolled": true
   },
   "outputs": [
    {
     "name": "stdout",
     "output_type": "stream",
     "text": [
      "{1, 2, 4, 5, 6}\n"
     ]
    }
   ],
   "source": [
    "#to remove an element from set\n",
    "a={1,2,3,4,5,6}\n",
    "a.remove(3)\n",
    "print(a)"
   ]
  },
  {
   "cell_type": "code",
   "execution_count": 15,
   "id": "83b5d44a",
   "metadata": {},
   "outputs": [
    {
     "name": "stdout",
     "output_type": "stream",
     "text": [
      "{1, 2, 5, 6}\n"
     ]
    }
   ],
   "source": [
    "\n",
    "a.remove(4)\n",
    "print(a)"
   ]
  },
  {
   "cell_type": "code",
   "execution_count": 16,
   "id": "b18fdf3a",
   "metadata": {},
   "outputs": [
    {
     "name": "stdout",
     "output_type": "stream",
     "text": [
      "set()\n"
     ]
    }
   ],
   "source": [
    "#to remove all the elements from a set\n",
    "a={1,2,3,4}\n",
    "a.clear()\n",
    "print(a)"
   ]
  },
  {
   "cell_type": "code",
   "execution_count": null,
   "id": "08d1bd0b",
   "metadata": {},
   "outputs": [],
   "source": [
    "#to delete the set\n",
    "a={1,2,3,4}\n",
    "del(a)"
   ]
  },
  {
   "cell_type": "code",
   "execution_count": null,
   "id": "407ff0c1",
   "metadata": {},
   "outputs": [],
   "source": [
    "#set is mutable\n",
    "#set cannot support indexing and slicing"
   ]
  },
  {
   "cell_type": "code",
   "execution_count": 14,
   "id": "63c72037",
   "metadata": {},
   "outputs": [
    {
     "ename": "TypeError",
     "evalue": "unhashable type: 'set'",
     "output_type": "error",
     "traceback": [
      "\u001b[1;31m---------------------------------------------------------------------------\u001b[0m",
      "\u001b[1;31mTypeError\u001b[0m                                 Traceback (most recent call last)",
      "\u001b[1;32m~\\AppData\\Local\\Temp\\ipykernel_16532\\345439454.py\u001b[0m in \u001b[0;36m<module>\u001b[1;34m\u001b[0m\n\u001b[0;32m      1\u001b[0m \u001b[1;31m#set does not support nesting in python\u001b[0m\u001b[1;33m\u001b[0m\u001b[1;33m\u001b[0m\u001b[0m\n\u001b[1;32m----> 2\u001b[1;33m \u001b[0ma\u001b[0m\u001b[1;33m=\u001b[0m\u001b[1;33m{\u001b[0m\u001b[1;36m2\u001b[0m\u001b[1;33m,\u001b[0m\u001b[1;36m3\u001b[0m\u001b[1;33m,\u001b[0m\u001b[1;33m{\u001b[0m\u001b[1;36m2\u001b[0m\u001b[1;33m,\u001b[0m\u001b[1;36m3\u001b[0m\u001b[1;33m}\u001b[0m\u001b[1;33m}\u001b[0m\u001b[1;33m\u001b[0m\u001b[1;33m\u001b[0m\u001b[0m\n\u001b[0m\u001b[0;32m      3\u001b[0m \u001b[0mprint\u001b[0m\u001b[1;33m(\u001b[0m\u001b[0ma\u001b[0m\u001b[1;33m)\u001b[0m\u001b[1;33m\u001b[0m\u001b[1;33m\u001b[0m\u001b[0m\n",
      "\u001b[1;31mTypeError\u001b[0m: unhashable type: 'set'"
     ]
    }
   ],
   "source": [
    "#set does not support nesting in python\n",
    "a={2,3,{2,3}}\n",
    "print(a)"
   ]
  },
  {
   "cell_type": "code",
   "execution_count": 18,
   "id": "b111a982",
   "metadata": {},
   "outputs": [
    {
     "name": "stdout",
     "output_type": "stream",
     "text": [
      "{1, 3}\n"
     ]
    }
   ],
   "source": [
    "#find common elements\n",
    "a={1,2,3,4}\n",
    "b={1,3,6,7,8}\n",
    "common=set()\n",
    "for i in a:\n",
    "    if i in b:\n",
    "        common.add(i)\n",
    "print(common)"
   ]
  },
  {
   "cell_type": "code",
   "execution_count": 19,
   "id": "ffc42498",
   "metadata": {},
   "outputs": [
    {
     "name": "stdout",
     "output_type": "stream",
     "text": [
      "{1, 3}\n"
     ]
    }
   ],
   "source": [
    "a={1,2,3,4}\n",
    "b={1,3,6,7,8}\n",
    "#intersection->take common eleements\n",
    "print(a.intersection(b))"
   ]
  },
  {
   "cell_type": "code",
   "execution_count": 20,
   "id": "26246709",
   "metadata": {},
   "outputs": [
    {
     "name": "stdout",
     "output_type": "stream",
     "text": [
      "{1, 2, 3, 4, 5, 6}\n",
      "{3, 4}\n"
     ]
    }
   ],
   "source": [
    "#set operations\n",
    "#union->Total elements\n",
    "a={1,2,3,4}\n",
    "b={3,4,5,6}\n",
    "print(a.union(b))\n",
    "#intersection->take common eleements\n",
    "print(a.intersection(b))"
   ]
  },
  {
   "cell_type": "code",
   "execution_count": 21,
   "id": "50181669",
   "metadata": {},
   "outputs": [
    {
     "name": "stdout",
     "output_type": "stream",
     "text": [
      "{1, 2}\n"
     ]
    }
   ],
   "source": [
    "a={1,2,3,4}\n",
    "b={3,4,5,6}#difference\n",
    "print(a.difference(b))#a-b"
   ]
  },
  {
   "cell_type": "code",
   "execution_count": 22,
   "id": "f44976b0",
   "metadata": {},
   "outputs": [
    {
     "name": "stdout",
     "output_type": "stream",
     "text": [
      "{5, 6}\n"
     ]
    }
   ],
   "source": [
    "a={1,2,3,4}\n",
    "b={3,4,5,6}\n",
    "print(b.difference(a))#b-a"
   ]
  },
  {
   "cell_type": "markdown",
   "id": "62ec6bc8",
   "metadata": {},
   "source": [
    "#list"
   ]
  },
  {
   "cell_type": "code",
   "execution_count": 1,
   "id": "4a729903",
   "metadata": {},
   "outputs": [
    {
     "name": "stdout",
     "output_type": "stream",
     "text": [
      "<class 'list'>\n"
     ]
    }
   ],
   "source": [
    "#square braces are used for list\n",
    "l=[1,2,3,4,5]\n",
    "print(type(l))"
   ]
  },
  {
   "cell_type": "code",
   "execution_count": 2,
   "id": "efdaa2e0",
   "metadata": {},
   "outputs": [
    {
     "name": "stdout",
     "output_type": "stream",
     "text": [
      "[1, 2, 3, 1, 2, 3, 'hello', 'hello', False]\n",
      "[8, 10, 7, 2, 1, 8]\n"
     ]
    }
   ],
   "source": [
    "#keeps order\n",
    "#heterogenous\n",
    "#supports duplication \n",
    "L=[8,10,7,2,1,8]\n",
    "s=[1,2,3,1,2,3,\"hello\", \"hello\", False]\n",
    "print(s)\n",
    "print(L)"
   ]
  },
  {
   "cell_type": "code",
   "execution_count": 3,
   "id": "73c18b3c",
   "metadata": {},
   "outputs": [
    {
     "name": "stdout",
     "output_type": "stream",
     "text": [
      "<class 'list'>\n"
     ]
    }
   ],
   "source": [
    "#empty list\n",
    "list1=[]\n",
    "print(type(list1))"
   ]
  },
  {
   "cell_type": "code",
   "execution_count": 1,
   "id": "3718b13c",
   "metadata": {},
   "outputs": [
    {
     "name": "stdout",
     "output_type": "stream",
     "text": [
      "[4]\n"
     ]
    }
   ],
   "source": [
    "#to add elements in a list\n",
    "list1=[]\n",
    "list1.append(4)\n",
    "print(list1)"
   ]
  },
  {
   "cell_type": "code",
   "execution_count": 2,
   "id": "a5697326",
   "metadata": {},
   "outputs": [
    {
     "name": "stdout",
     "output_type": "stream",
     "text": [
      "[4, 'hello', 7.5]\n"
     ]
    }
   ],
   "source": [
    "list1.append(\"hello\")\n",
    "list1.append(7.5)\n",
    "print(list1)"
   ]
  },
  {
   "cell_type": "code",
   "execution_count": 4,
   "id": "b819c79b",
   "metadata": {},
   "outputs": [
    {
     "name": "stdout",
     "output_type": "stream",
     "text": [
      "[1, 8, 27, 64, 125]\n"
     ]
    }
   ],
   "source": [
    "#to print square of elements in a list\n",
    "l=[1,2,3,4,5]\n",
    "cube=[]\n",
    "for i in l:\n",
    "    cube.append(i**3)\n",
    "print(cube )\n",
    "\n"
   ]
  },
  {
   "cell_type": "code",
   "execution_count": 4,
   "id": "10067ad7",
   "metadata": {},
   "outputs": [
    {
     "name": "stdout",
     "output_type": "stream",
     "text": [
      "[1, 2, 3, 4, 5, 6, 7, 9]\n"
     ]
    }
   ],
   "source": [
    "#to remove elements\n",
    "list1=[1,2,3,4,5,6,7,8,9]\n",
    "list1.remove(list1[7])\n",
    "print(list1)"
   ]
  },
  {
   "cell_type": "code",
   "execution_count": 9,
   "id": "663cbb6f",
   "metadata": {},
   "outputs": [
    {
     "name": "stdout",
     "output_type": "stream",
     "text": [
      "[]\n"
     ]
    }
   ],
   "source": [
    "#to remove every entire elements \n",
    "list1=[1,2,3,6,4,5]\n",
    "list1.clear()\n",
    "print(list1)"
   ]
  },
  {
   "cell_type": "code",
   "execution_count": 15,
   "id": "cc7bc6f1",
   "metadata": {},
   "outputs": [
    {
     "data": {
      "text/plain": [
       "6"
      ]
     },
     "execution_count": 15,
     "metadata": {},
     "output_type": "execute_result"
    }
   ],
   "source": [
    "list1=[1,2,3,6,4,5,6]\n",
    "list1[3]"
   ]
  },
  {
   "cell_type": "code",
   "execution_count": 8,
   "id": "58b130e9",
   "metadata": {},
   "outputs": [
    {
     "data": {
      "text/plain": [
       "3"
      ]
     },
     "execution_count": 8,
     "metadata": {},
     "output_type": "execute_result"
    }
   ],
   "source": [
    "#toremove the list itself\n",
    "list1=[1,2,3,4,5,6,7,8,9]\n",
    "del(list1)\n",
    "#list is mutable\n",
    "#to to get the last element of the list\n",
    "list=[1,2,3]\n",
    "list.pop()"
   ]
  },
  {
   "cell_type": "code",
   "execution_count": 16,
   "id": "01b13e0b",
   "metadata": {},
   "outputs": [
    {
     "name": "stdout",
     "output_type": "stream",
     "text": [
      "[9, 0, 8, 7, [5, 7]]\n"
     ]
    }
   ],
   "source": [
    "#indexing and slicing are supported by the list\n",
    "#nesting supported by the list\n",
    "l=[9,0,8,7]\n",
    "l.append([5,7])\n",
    "print(l)"
   ]
  },
  {
   "cell_type": "code",
   "execution_count": null,
   "id": "3ade9d0b",
   "metadata": {},
   "outputs": [],
   "source": [
    "#to find the duplicate elements"
   ]
  },
  {
   "cell_type": "code",
   "execution_count": 17,
   "id": "00601e03",
   "metadata": {},
   "outputs": [
    {
     "name": "stdout",
     "output_type": "stream",
     "text": [
      "[1, 2, 3, 4, 5, 6]\n"
     ]
    }
   ],
   "source": [
    "l=[1,2,3,1,2,3,4,5,6,4,5,6]\n",
    "list1=[]\n",
    "for i in l:\n",
    "    if i not in list1:\n",
    "        list1.append(i)\n",
    "print(list1)       "
   ]
  },
  {
   "cell_type": "code",
   "execution_count": 18,
   "id": "614adf6b",
   "metadata": {},
   "outputs": [
    {
     "name": "stdout",
     "output_type": "stream",
     "text": [
      "1\n",
      "4.7\n",
      "[4.7, 'hello', 3, 2, 1]\n"
     ]
    }
   ],
   "source": [
    "#example of indexing\n",
    "l=[1,2,3,\"hello\",4.7]\n",
    "print(l[0])\n",
    "print(l[-1])\n",
    "print(l[::-1])"
   ]
  },
  {
   "cell_type": "code",
   "execution_count": 19,
   "id": "cdb5ac5d",
   "metadata": {},
   "outputs": [
    {
     "name": "stdout",
     "output_type": "stream",
     "text": [
      "[3, 5, 7, 9]\n",
      "[4, 6, 8, 10]\n"
     ]
    }
   ],
   "source": [
    "lis=[1,2,3,4,5,6,7,8,9,10]\n",
    "prime=[]\n",
    "nonprime=[]\n",
    "for num in lis:\n",
    "    for i in range(2,num):\n",
    "        if num%i==0:\n",
    "            nonprime.append(num)\n",
    "            break\n",
    "        else: \n",
    "            prime.append(num)\n",
    "            break\n",
    "print(prime)\n",
    "print(nonprime)"
   ]
  },
  {
   "cell_type": "code",
   "execution_count": null,
   "id": "e030c03d",
   "metadata": {},
   "outputs": [],
   "source": [
    "#nesting in list\n",
    "l=[1,2,3,[4,5]]\n",
    "print(l)"
   ]
  },
  {
   "cell_type": "code",
   "execution_count": 20,
   "id": "7a3d747d",
   "metadata": {},
   "outputs": [
    {
     "name": "stdout",
     "output_type": "stream",
     "text": [
      "[100, 2, 3, 4, 5]\n"
     ]
    }
   ],
   "source": [
    "l=[1,2,3,4,5]\n",
    "l[0]=100\n",
    "print(l)"
   ]
  },
  {
   "cell_type": "code",
   "execution_count": 1,
   "id": "56ef06ee",
   "metadata": {},
   "outputs": [
    {
     "name": "stdout",
     "output_type": "stream",
     "text": [
      "4\n",
      "5\n",
      "6\n"
     ]
    }
   ],
   "source": [
    "#common elements1\n",
    "l1=[1,2,3,4,5,6]\n",
    "l2=[4,5,6,7,8,9,0]\n",
    "for i in l1:\n",
    "    if i in l2:\n",
    "        print(i)"
   ]
  },
  {
   "cell_type": "code",
   "execution_count": 4,
   "id": "a2bc51ed",
   "metadata": {},
   "outputs": [
    {
     "name": "stdout",
     "output_type": "stream",
     "text": [
      "[1, 2, 3]\n"
     ]
    }
   ],
   "source": [
    "# to convert list into set\n",
    "l1=[1,2,3,4,5,6]\n",
    "#a=set(l1)\n",
    "#convert set into list\n",
    "l2=[1, 2, 3]\n",
    "#s=set(l2)\n",
    "#print(s)\n",
    "#print(a)\n",
    "print(list(set(l1).intersection(set(l2))))"
   ]
  },
  {
   "cell_type": "code",
   "execution_count": 10,
   "id": "6d2cd86a",
   "metadata": {},
   "outputs": [
    {
     "name": "stdout",
     "output_type": "stream",
     "text": [
      "[1, 3, 4, 5, 7, 8, 9]\n",
      "[9, 8, 7, 5, 4, 3, 1]\n"
     ]
    }
   ],
   "source": [
    "#to sort the list\n",
    "list1=[8,5,3,1,4,9,7]\n",
    "list1.sort()\n",
    "print(list1)#ascending\n",
    "print(list1[::-1])#descending"
   ]
  },
  {
   "cell_type": "code",
   "execution_count": 3,
   "id": "28491042",
   "metadata": {},
   "outputs": [
    {
     "name": "stdout",
     "output_type": "stream",
     "text": [
      "-1\n"
     ]
    }
   ],
   "source": [
    "#to print min of list 1\n",
    "l1=[0,2,1,3,4,-1]\n",
    "print(min(l1))"
   ]
  },
  {
   "cell_type": "code",
   "execution_count": 2,
   "id": "923f482c",
   "metadata": {},
   "outputs": [
    {
     "name": "stdout",
     "output_type": "stream",
     "text": [
      "5\n"
     ]
    }
   ],
   "source": [
    "#to print max of list 1\n",
    "l1=[5,2,1,3,4,]\n",
    "print(max(l1))"
   ]
  },
  {
   "cell_type": "code",
   "execution_count": 1,
   "id": "59d5abcb",
   "metadata": {},
   "outputs": [
    {
     "name": "stdout",
     "output_type": "stream",
     "text": [
      "5\n"
     ]
    }
   ],
   "source": [
    "#to print length of list 1\n",
    "l1=[0,2,1,3,4]\n",
    "print(len(l1))"
   ]
  },
  {
   "cell_type": "code",
   "execution_count": 8,
   "id": "beb8609b",
   "metadata": {},
   "outputs": [
    {
     "name": "stdout",
     "output_type": "stream",
     "text": [
      "10\n"
     ]
    }
   ],
   "source": [
    "#to print sum of list 1\n",
    "l1=[0,2,1,3,4,]\n",
    "print(sum(l1))"
   ]
  },
  {
   "cell_type": "code",
   "execution_count": 11,
   "id": "839cae87",
   "metadata": {},
   "outputs": [
    {
     "name": "stdout",
     "output_type": "stream",
     "text": [
      "5 \n",
      " 1\n"
     ]
    }
   ],
   "source": [
    "l1=[5,2,1,3,4,]\n",
    "min=l1[0]\n",
    "max=l1[0]\n",
    "for i in l1:\n",
    "    if i<min:\n",
    "        min=i\n",
    "    elif i>max:\n",
    "        max=i\n",
    "print(max,\"\\n\",min)"
   ]
  },
  {
   "cell_type": "code",
   "execution_count": 13,
   "id": "cdb4e65b",
   "metadata": {
    "scrolled": true
   },
   "outputs": [
    {
     "name": "stdout",
     "output_type": "stream",
     "text": [
      "4\n",
      "2\n",
      "3\n"
     ]
    }
   ],
   "source": [
    "#to find the mid element\n",
    "l=[1,2,3,4,5]\n",
    "len(l)\n",
    "lastindex=len(l)-1\n",
    "print(lastindex)\n",
    "mid=lastindex//2\n",
    "print(mid)\n",
    "print(l[mid])"
   ]
  },
  {
   "cell_type": "code",
   "execution_count": 4,
   "id": "9ae903cb",
   "metadata": {},
   "outputs": [
    {
     "data": {
      "text/plain": [
       "2"
      ]
     },
     "execution_count": 4,
     "metadata": {},
     "output_type": "execute_result"
    }
   ],
   "source": [
    "5//2"
   ]
  },
  {
   "cell_type": "code",
   "execution_count": 2,
   "id": "bb69f4f5",
   "metadata": {},
   "outputs": [
    {
     "name": "stdout",
     "output_type": "stream",
     "text": [
      "[1, 2, 3, (4, 5, 6)]\n"
     ]
    }
   ],
   "source": [
    "a=[1,2,3]\n",
    "b=4,5,6\n",
    "a.append(b)\n",
    "print(a)"
   ]
  },
  {
   "cell_type": "code",
   "execution_count": 15,
   "id": "5fe208ff",
   "metadata": {},
   "outputs": [
    {
     "name": "stdout",
     "output_type": "stream",
     "text": [
      "[1, 2, 3, 4, 5, 6]\n"
     ]
    }
   ],
   "source": [
    "a=[1,2,3]\n",
    "b=4,5,6\n",
    "a.extend(b)\n",
    "print(a)"
   ]
  },
  {
   "cell_type": "code",
   "execution_count": 16,
   "id": "b111e946",
   "metadata": {},
   "outputs": [
    {
     "name": "stdout",
     "output_type": "stream",
     "text": [
      "[1, 8, 27, 64, 125]\n"
     ]
    }
   ],
   "source": [
    "#list comprehension\n",
    "l=[1,2,3,4,5]\n",
    "cube=[]\n",
    "for i in l:\n",
    "    cube.append(i**3)\n",
    "print(cube)"
   ]
  },
  {
   "cell_type": "code",
   "execution_count": 17,
   "id": "cfc1e372",
   "metadata": {},
   "outputs": [
    {
     "name": "stdout",
     "output_type": "stream",
     "text": [
      "[1, 8, 27, 64, 125]\n"
     ]
    }
   ],
   "source": [
    "l=[1,2,3,4,5]\n",
    "cube=[i**3 for i in l]\n",
    "print(cube)"
   ]
  },
  {
   "cell_type": "code",
   "execution_count": 18,
   "id": "cc331c61",
   "metadata": {},
   "outputs": [
    {
     "name": "stdout",
     "output_type": "stream",
     "text": [
      "[5, 4, 10]\n",
      "[-1, -2, -3, -9]\n"
     ]
    }
   ],
   "source": [
    "#to find the positive &neg numbers in alist\n",
    "l=[-1,-2,-3,5,4,-9,10]\n",
    "pos=[i for  i in l if i>0 ]\n",
    "print(pos)\n",
    "neg=[i for  i in l if i<0 ]\n",
    "print(neg)"
   ]
  },
  {
   "cell_type": "code",
   "execution_count": 3,
   "id": "f7d8824e",
   "metadata": {},
   "outputs": [
    {
     "name": "stdout",
     "output_type": "stream",
     "text": [
      "[2, 4, 6, 8, 10, 12, 14, 16, 18, 20]\n"
     ]
    }
   ],
   "source": [
    "#to find the  even numbers in alist\n",
    "even=[i for i in range(1,20) if i%2==0]\n",
    "print(even)"
   ]
  },
  {
   "cell_type": "code",
   "execution_count": null,
   "id": "4328d7d2",
   "metadata": {},
   "outputs": [],
   "source": [
    "#to find the positive even numbers in alist\n",
    "l=[-1,-2,3,-4,5,6,7,8,9]\n",
    "poseven=[i for i in l if i%2==0 and i>0]\n",
    "print(poseven)"
   ]
  },
  {
   "cell_type": "code",
   "execution_count": null,
   "id": "5ec76dbc",
   "metadata": {},
   "outputs": [],
   "source": [
    "#tuple"
   ]
  },
  {
   "cell_type": "code",
   "execution_count": 1,
   "id": "42fe11bb",
   "metadata": {},
   "outputs": [
    {
     "name": "stdout",
     "output_type": "stream",
     "text": [
      "(1, 2, 3, 4)\n",
      "<class 'tuple'>\n"
     ]
    }
   ],
   "source": [
    " #immutable\n",
    "tup1=(1,2,3,4)\n",
    "print(tup1)\n",
    "print(type(tup1))"
   ]
  },
  {
   "cell_type": "markdown",
   "id": "63500075",
   "metadata": {},
   "source": [
    "#heterogenous\n",
    "\n",
    "#keeps order\n",
    "\n",
    "#support indexing &slicing\n",
    "\n",
    "#supports duplication\n",
    "\n",
    "#iterable\n",
    "\n",
    "#immutable\n",
    "\n",
    "#supports nesting"
   ]
  },
  {
   "cell_type": "code",
   "execution_count": 2,
   "id": "a806b53a",
   "metadata": {},
   "outputs": [
    {
     "name": "stdout",
     "output_type": "stream",
     "text": [
      "(1, 2, 3.2, 'hello', 'hello')\n",
      "1\n",
      "2\n",
      "3.2\n",
      "hello\n",
      "hello\n",
      "(2, 3.2)\n"
     ]
    }
   ],
   "source": [
    "tup1=(1,2,3.2,\"hello\",\"hello\")\n",
    "print(tup1)\n",
    "for i in tup1:\n",
    "    print(i)\n",
    "print(tup1[1:3:1])    "
   ]
  },
  {
   "cell_type": "code",
   "execution_count": null,
   "id": "6d850c10",
   "metadata": {},
   "outputs": [],
   "source": [
    "#types of tuple"
   ]
  },
  {
   "cell_type": "code",
   "execution_count": 3,
   "id": "722da744",
   "metadata": {},
   "outputs": [
    {
     "name": "stdout",
     "output_type": "stream",
     "text": [
      "()\n",
      "<class 'tuple'>\n"
     ]
    }
   ],
   "source": [
    "#empty tuple\n",
    "tup1=()\n",
    "print(tup1)\n",
    "print(type(tup1))"
   ]
  },
  {
   "cell_type": "code",
   "execution_count": 5,
   "id": "11f4540c",
   "metadata": {},
   "outputs": [
    {
     "name": "stdout",
     "output_type": "stream",
     "text": [
      "(1, 2)\n",
      "<class 'tuple'>\n"
     ]
    }
   ],
   "source": [
    "#single elmenttuple single element tuple needs comma\n",
    "tupl=1,2,\n",
    "print(tupl)\n",
    "print(type(tupl))\n"
   ]
  },
  {
   "cell_type": "code",
   "execution_count": 5,
   "id": "16634a84",
   "metadata": {},
   "outputs": [
    {
     "name": "stdout",
     "output_type": "stream",
     "text": [
      "(1, 2, 3, 4)\n",
      "<class 'tuple'>\n"
     ]
    }
   ],
   "source": [
    "#integer tuple\n",
    "tup2=(1,2,3,4)\n",
    "print(tup2)\n",
    "print(type(tup2))\n",
    "\n"
   ]
  },
  {
   "cell_type": "code",
   "execution_count": null,
   "id": "63871c5e",
   "metadata": {},
   "outputs": [],
   "source": [
    "#float tuple\n",
    "tup2=(1.2,2.3,3.3,4.4)\n",
    "print(tup2)\n",
    "print(type(tup2))"
   ]
  },
  {
   "cell_type": "code",
   "execution_count": null,
   "id": "567419ba",
   "metadata": {},
   "outputs": [],
   "source": [
    "#string tuple, boolean, tuple with mixed datatype"
   ]
  },
  {
   "cell_type": "code",
   "execution_count": 5,
   "id": "ee1ebf4d",
   "metadata": {},
   "outputs": [
    {
     "name": "stdout",
     "output_type": "stream",
     "text": [
      "5\n",
      "0\n"
     ]
    }
   ],
   "source": [
    "t=(1,0,3,4,5)\n",
    "\n",
    "print(max(t))\n",
    "print(min(t))"
   ]
  },
  {
   "cell_type": "code",
   "execution_count": 10,
   "id": "8fdf1a58",
   "metadata": {},
   "outputs": [
    {
     "name": "stdout",
     "output_type": "stream",
     "text": [
      "2\n",
      "3\n",
      "p\n",
      "a\n"
     ]
    }
   ],
   "source": [
    "t=('a','p','p','l','e')\n",
    "print(t.count('p'))\n",
    "print(t.index('l'))\n",
    "print(max(t))\n",
    "print(min(t))"
   ]
  },
  {
   "cell_type": "code",
   "execution_count": null,
   "id": "602c2414",
   "metadata": {},
   "outputs": [],
   "source": [
    "#to print sum\n",
    "p=(1,2,3)\n",
    "print(sum(p))"
   ]
  },
  {
   "cell_type": "code",
   "execution_count": 8,
   "id": "02fc2c29",
   "metadata": {},
   "outputs": [
    {
     "name": "stdout",
     "output_type": "stream",
     "text": [
      "1\n",
      "2\n",
      "3\n"
     ]
    }
   ],
   "source": [
    "#tuple unpacking\n",
    "t=(1,2,3)\n",
    "a,b,c=t\n",
    "print(a)\n",
    "print(b)\n",
    "print(c)"
   ]
  },
  {
   "cell_type": "code",
   "execution_count": 9,
   "id": "ccad2d21",
   "metadata": {
    "scrolled": true
   },
   "outputs": [
    {
     "name": "stdout",
     "output_type": "stream",
     "text": [
      "61\n"
     ]
    }
   ],
   "source": [
    "#to find total of elements of tuple unpacking\n",
    "t=(1,2,3,55)\n",
    "a,b,c,d=t\n",
    "print(a+b+c+d)\n"
   ]
  },
  {
   "cell_type": "markdown",
   "id": "61cccf0c",
   "metadata": {},
   "source": [
    "DICTIONARY"
   ]
  },
  {
   "cell_type": "code",
   "execution_count": 10,
   "id": "d7b9b021",
   "metadata": {},
   "outputs": [
    {
     "name": "stdout",
     "output_type": "stream",
     "text": [
      "<class 'set'>\n"
     ]
    }
   ],
   "source": [
    "DICT={'ANU','KOCHI',23}\n",
    "print(type(DICT))"
   ]
  },
  {
   "cell_type": "code",
   "execution_count": 11,
   "id": "23d7e745",
   "metadata": {},
   "outputs": [
    {
     "name": "stdout",
     "output_type": "stream",
     "text": [
      "<class 'dict'>\n",
      "{'NAME': 'ANU', 'PLACE': 'KOCHI', 'AGE': 23}\n"
     ]
    }
   ],
   "source": [
    "DICT={'NAME':'ANU',\"PLACE\":\"KOCHI\",\"AGE\":23}\n",
    "print(type(DICT))\n",
    "print(DICT)"
   ]
  },
  {
   "cell_type": "code",
   "execution_count": null,
   "id": "f7d1d78c",
   "metadata": {},
   "outputs": [],
   "source": [
    "#KEEPSorder\n",
    "#heterogenous\n",
    "#duplication supports for values\n",
    "#"
   ]
  },
  {
   "cell_type": "code",
   "execution_count": 1,
   "id": "0c574401",
   "metadata": {},
   "outputs": [
    {
     "name": "stdout",
     "output_type": "stream",
     "text": [
      "<class 'dict'>\n",
      "{'NAME': 'ANU', 'PLACE': 'KOCHI', 'AGE': 23}\n",
      "NAME\n",
      "PLACE\n",
      "AGE\n"
     ]
    }
   ],
   "source": [
    "DICT={\"NAME\":'ANU',\"PLACE\":\"KOCHI\",\"AGE\":23}\n",
    "print(type(DICT))\n",
    "print(DICT)\n",
    "for i in DICT:\n",
    "    print(i)\n",
    "    #key only"
   ]
  },
  {
   "cell_type": "code",
   "execution_count": 2,
   "id": "36204977",
   "metadata": {},
   "outputs": [
    {
     "name": "stdout",
     "output_type": "stream",
     "text": [
      "KOCHI\n"
     ]
    }
   ],
   "source": [
    "#INDEXING DO NOT SUPPORT\n",
    "print(DICT[\"PLACE\"])"
   ]
  },
  {
   "cell_type": "code",
   "execution_count": 1,
   "id": "592febc2",
   "metadata": {},
   "outputs": [
    {
     "name": "stdout",
     "output_type": "stream",
     "text": [
      "<class 'dict'>\n",
      "{'NAME': 'ANU', 'PLACE': 'KOCHI', 'AGE': 23}\n",
      "ANU\n",
      "KOCHI\n",
      "23\n"
     ]
    }
   ],
   "source": [
    "DICT={\"NAME\":'ANU',\"PLACE\":\"KOCHI\",\"AGE\":23}\n",
    "print(type(DICT))\n",
    "print(DICT)\n",
    "for i in DICT:\n",
    "    print(DICT[i])"
   ]
  },
  {
   "cell_type": "code",
   "execution_count": 3,
   "id": "42ea56b2",
   "metadata": {},
   "outputs": [
    {
     "name": "stdout",
     "output_type": "stream",
     "text": [
      "dict_keys(['NAME', 'PLACE', 'AGE'])\n"
     ]
    }
   ],
   "source": [
    "#inbuilt function\n",
    "print(DICT.keys())"
   ]
  },
  {
   "cell_type": "code",
   "execution_count": 4,
   "id": "28db4a27",
   "metadata": {},
   "outputs": [
    {
     "name": "stdout",
     "output_type": "stream",
     "text": [
      "dict_values(['ANU', 'KOCHI', 23])\n"
     ]
    }
   ],
   "source": [
    "print(DICT.values())"
   ]
  },
  {
   "cell_type": "code",
   "execution_count": 3,
   "id": "bd098395",
   "metadata": {},
   "outputs": [
    {
     "name": "stdout",
     "output_type": "stream",
     "text": [
      "enter the key to check\n",
      "STATUS\n",
      "not present\n"
     ]
    }
   ],
   "source": [
    "DICT={\"NAME\":'ANU',\"PLACE\":\"KOCHI\",\"AGE\":23}\n",
    "e=input(\"enter the key to check\\n\")\n",
    "if e in DICT.keys():\n",
    "    print(\"present\")\n",
    "else:\n",
    "    print(\"not present\")"
   ]
  },
  {
   "cell_type": "code",
   "execution_count": 5,
   "id": "4788916a",
   "metadata": {
    "scrolled": true
   },
   "outputs": [
    {
     "name": "stdout",
     "output_type": "stream",
     "text": [
      "not present\n"
     ]
    }
   ],
   "source": [
    "D={1:'a', 2:'b', 3:'c'}\n",
    "def keycheck(e):\n",
    "    if e in D:\n",
    "        print(\"present\")\n",
    "    else:\n",
    "        print(\"not present\") \n",
    "keycheck(4)\n",
    "        \n"
   ]
  },
  {
   "cell_type": "code",
   "execution_count": 6,
   "id": "911706d0",
   "metadata": {},
   "outputs": [
    {
     "name": "stdout",
     "output_type": "stream",
     "text": [
      "not present\n"
     ]
    }
   ],
   "source": [
    "keycheck(4)"
   ]
  },
  {
   "cell_type": "code",
   "execution_count": null,
   "id": "07b07f62",
   "metadata": {},
   "outputs": [],
   "source": [
    "D={1:'a', 2:'b', 3:'c',4:{5:'d'}}\n",
    "print(D)#nesting is possible"
   ]
  },
  {
   "cell_type": "code",
   "execution_count": 2,
   "id": "c2684688",
   "metadata": {},
   "outputs": [
    {
     "name": "stdout",
     "output_type": "stream",
     "text": [
      "{3: 'hi', 4: 'hello'}\n"
     ]
    }
   ],
   "source": [
    "#dict is mutable\n",
    "dict={3:\"hi\", 4:\"hello\"}\n",
    "print(dict)"
   ]
  },
  {
   "cell_type": "code",
   "execution_count": 3,
   "id": "9aefb111",
   "metadata": {
    "scrolled": true
   },
   "outputs": [
    {
     "name": "stdout",
     "output_type": "stream",
     "text": [
      "{3: 'hi', 4: 'hello', 1: 'hi', 2: 'hello'}\n"
     ]
    }
   ],
   "source": [
    "#to add element\n",
    "dict.update({1:\"hi\", 2:\"hello\"})\n",
    "print(dict)"
   ]
  },
  {
   "cell_type": "code",
   "execution_count": 7,
   "id": "daa3db9c",
   "metadata": {},
   "outputs": [
    {
     "name": "stdout",
     "output_type": "stream",
     "text": [
      "<class 'dict'>\n"
     ]
    }
   ],
   "source": [
    "d={}\n",
    "print(type(d))"
   ]
  },
  {
   "cell_type": "code",
   "execution_count": 6,
   "id": "44e42abe",
   "metadata": {},
   "outputs": [
    {
     "name": "stdout",
     "output_type": "stream",
     "text": [
      "<class 'dict'>\n",
      "{1: 'world'}\n"
     ]
    }
   ],
   "source": [
    "\n",
    "d[1]=\"world\"\n",
    "print(d)"
   ]
  },
  {
   "cell_type": "code",
   "execution_count": 8,
   "id": "f47d0cb0",
   "metadata": {},
   "outputs": [
    {
     "name": "stdout",
     "output_type": "stream",
     "text": [
      "{'NAME': 'ANU', 'PLACE': 'KOCHI'}\n"
     ]
    }
   ],
   "source": [
    "#to remove element\n",
    "dict={\"NAME\":'ANU',\"PLACE\":\"KOCHI\",\"AGE\":23}\n",
    "del dict[\"AGE\"]\n",
    "print(dict)"
   ]
  },
  {
   "cell_type": "code",
   "execution_count": 9,
   "id": "94aade06",
   "metadata": {},
   "outputs": [],
   "source": [
    "#to remove all the elements\n",
    "dict.clear()"
   ]
  },
  {
   "cell_type": "code",
   "execution_count": 10,
   "id": "7f9266e8",
   "metadata": {},
   "outputs": [
    {
     "name": "stdout",
     "output_type": "stream",
     "text": [
      "{}\n"
     ]
    }
   ],
   "source": [
    "print(dict)"
   ]
  },
  {
   "cell_type": "code",
   "execution_count": 7,
   "id": "e4b67a99",
   "metadata": {},
   "outputs": [
    {
     "name": "stdout",
     "output_type": "stream",
     "text": [
      "['livewire', 'sahara']\n",
      "livewire\n",
      "sahara\n"
     ]
    }
   ],
   "source": [
    "#split method\n",
    "s=\"livewire sahara\"\n",
    "a=s.split(\" \")\n",
    "print(a)\n",
    "for i in a:\n",
    "    print(i)\n"
   ]
  },
  {
   "cell_type": "code",
   "execution_count": null,
   "id": "03fb3288",
   "metadata": {},
   "outputs": [],
   "source": []
  },
  {
   "cell_type": "code",
   "execution_count": null,
   "id": "0f840376",
   "metadata": {},
   "outputs": [],
   "source": []
  }
 ],
 "metadata": {
  "kernelspec": {
   "display_name": "Python 3 (ipykernel)",
   "language": "python",
   "name": "python3"
  },
  "language_info": {
   "codemirror_mode": {
    "name": "ipython",
    "version": 3
   },
   "file_extension": ".py",
   "mimetype": "text/x-python",
   "name": "python",
   "nbconvert_exporter": "python",
   "pygments_lexer": "ipython3",
   "version": "3.9.13"
  }
 },
 "nbformat": 4,
 "nbformat_minor": 5
}
